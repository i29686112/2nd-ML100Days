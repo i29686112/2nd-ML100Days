{
 "cells": [
  {
   "cell_type": "markdown",
   "metadata": {},
   "source": [
    "## Work\n",
    "1. 試改變 monitor \"Validation Accuracy\" 並比較結果\n",
    "2. 調整 earlystop 的等待次數至 10, 25 並比較結果"
   ]
  },
  {
   "cell_type": "code",
   "execution_count": 1,
   "metadata": {},
   "outputs": [
    {
     "name": "stderr",
     "output_type": "stream",
     "text": [
      "Using TensorFlow backend.\n"
     ]
    }
   ],
   "source": [
    "import os\n",
    "import keras\n",
    "import matplotlib.pyplot as plt\n",
    "%matplotlib inline\n",
    "\n",
    "\n",
    "# Enable GPU\n",
    "os.environ[\"CUDA_VISIBLE_DEVICES\"] = \"0\"\n",
    "os.environ['KMP_DUPLICATE_LIB_OK']='True'"
   ]
  },
  {
   "cell_type": "code",
   "execution_count": 2,
   "metadata": {},
   "outputs": [],
   "source": [
    "train, test = keras.datasets.cifar10.load_data()"
   ]
  },
  {
   "cell_type": "code",
   "execution_count": 3,
   "metadata": {},
   "outputs": [],
   "source": [
    "## 資料前處理\n",
    "def preproc_x(x, flatten=True):\n",
    "    x = x / 255.\n",
    "    if flatten:\n",
    "        x = x.reshape((len(x), -1))\n",
    "    return x\n",
    "\n",
    "def preproc_y(y, num_classes=10):\n",
    "    if y.shape[-1] == 1:\n",
    "        y = keras.utils.to_categorical(y, num_classes)\n",
    "    return y    "
   ]
  },
  {
   "cell_type": "code",
   "execution_count": 4,
   "metadata": {},
   "outputs": [],
   "source": [
    "x_train, y_train = train\n",
    "x_test, y_test = test\n",
    "\n",
    "# Preproc the inputs\n",
    "x_train = preproc_x(x_train)\n",
    "x_test = preproc_x(x_test)\n",
    "\n",
    "# Preprc the outputs\n",
    "y_train = preproc_y(y_train)\n",
    "y_test = preproc_y(y_test)"
   ]
  },
  {
   "cell_type": "code",
   "execution_count": 5,
   "metadata": {},
   "outputs": [],
   "source": [
    "from keras.layers import BatchNormalization\n",
    "\n",
    "\"\"\"\n",
    "建立神經網路，並加入 BN layer\n",
    "\"\"\"\n",
    "def build_mlp(input_shape, output_units=10, num_neurons=[512, 256, 128]):\n",
    "    input_layer = keras.layers.Input(input_shape)\n",
    "    \n",
    "    for i, n_units in enumerate(num_neurons):\n",
    "        if i == 0:\n",
    "            x = keras.layers.Dense(units=n_units, \n",
    "                                   activation=\"relu\", \n",
    "                                   name=\"hidden_layer\"+str(i+1))(input_layer)\n",
    "            x = BatchNormalization()(x)\n",
    "        else:\n",
    "            x = keras.layers.Dense(units=n_units, \n",
    "                                   activation=\"relu\", \n",
    "                                   name=\"hidden_layer\"+str(i+1))(x)\n",
    "            x = BatchNormalization()(x)\n",
    "    \n",
    "    out = keras.layers.Dense(units=output_units, activation=\"softmax\", name=\"output\")(x)\n",
    "    \n",
    "    model = keras.models.Model(inputs=[input_layer], outputs=[out])\n",
    "    return model"
   ]
  },
  {
   "cell_type": "code",
   "execution_count": 9,
   "metadata": {},
   "outputs": [],
   "source": [
    "## 超參數設定\n",
    "LEARNING_RATE = 1e-3\n",
    "EPOCHS = 50\n",
    "BATCH_SIZE = 1024\n",
    "MOMENTUM = 0.95"
   ]
  },
  {
   "cell_type": "code",
   "execution_count": 10,
   "metadata": {},
   "outputs": [
    {
     "name": "stdout",
     "output_type": "stream",
     "text": [
      "_________________________________________________________________\n",
      "Layer (type)                 Output Shape              Param #   \n",
      "=================================================================\n",
      "input_2 (InputLayer)         (None, 3072)              0         \n",
      "_________________________________________________________________\n",
      "hidden_layer1 (Dense)        (None, 512)               1573376   \n",
      "_________________________________________________________________\n",
      "batch_normalization_4 (Batch (None, 512)               2048      \n",
      "_________________________________________________________________\n",
      "hidden_layer2 (Dense)        (None, 256)               131328    \n",
      "_________________________________________________________________\n",
      "batch_normalization_5 (Batch (None, 256)               1024      \n",
      "_________________________________________________________________\n",
      "hidden_layer3 (Dense)        (None, 128)               32896     \n",
      "_________________________________________________________________\n",
      "batch_normalization_6 (Batch (None, 128)               512       \n",
      "_________________________________________________________________\n",
      "output (Dense)               (None, 10)                1290      \n",
      "=================================================================\n",
      "Total params: 1,742,474\n",
      "Trainable params: 1,740,682\n",
      "Non-trainable params: 1,792\n",
      "_________________________________________________________________\n",
      "Train on 50000 samples, validate on 10000 samples\n",
      "Epoch 1/50\n",
      "50000/50000 [==============================] - 14s 290us/step - loss: 2.2152 - acc: 0.2700 - val_loss: 2.1584 - val_acc: 0.3149\n",
      "Epoch 2/50\n",
      "50000/50000 [==============================] - 14s 282us/step - loss: 1.7544 - acc: 0.3889 - val_loss: 1.8164 - val_acc: 0.3717\n",
      "Epoch 3/50\n",
      "50000/50000 [==============================] - 11s 227us/step - loss: 1.6242 - acc: 0.4304 - val_loss: 1.7007 - val_acc: 0.4098\n",
      "Epoch 4/50\n",
      "50000/50000 [==============================] - 11s 224us/step - loss: 1.5476 - acc: 0.4604 - val_loss: 1.6479 - val_acc: 0.4271\n",
      "Epoch 5/50\n",
      "50000/50000 [==============================] - 11s 217us/step - loss: 1.4904 - acc: 0.4784 - val_loss: 1.5931 - val_acc: 0.4416\n",
      "Epoch 6/50\n",
      "50000/50000 [==============================] - 11s 226us/step - loss: 1.4431 - acc: 0.4952 - val_loss: 1.5664 - val_acc: 0.4479\n",
      "Epoch 7/50\n",
      "50000/50000 [==============================] - 11s 211us/step - loss: 1.4029 - acc: 0.5113 - val_loss: 1.5394 - val_acc: 0.4625\n",
      "Epoch 8/50\n",
      "50000/50000 [==============================] - 11s 217us/step - loss: 1.3647 - acc: 0.5246 - val_loss: 1.5223 - val_acc: 0.4671\n",
      "Epoch 9/50\n",
      "50000/50000 [==============================] - 11s 225us/step - loss: 1.3324 - acc: 0.5355 - val_loss: 1.5146 - val_acc: 0.4705\n",
      "Epoch 10/50\n",
      "50000/50000 [==============================] - 11s 218us/step - loss: 1.3009 - acc: 0.5478 - val_loss: 1.5060 - val_acc: 0.4679\n",
      "Epoch 11/50\n",
      "50000/50000 [==============================] - 12s 233us/step - loss: 1.2717 - acc: 0.5582 - val_loss: 1.4921 - val_acc: 0.4698\n",
      "Epoch 12/50\n",
      "50000/50000 [==============================] - 11s 216us/step - loss: 1.2459 - acc: 0.5695 - val_loss: 1.4869 - val_acc: 0.4777\n",
      "Epoch 13/50\n",
      "50000/50000 [==============================] - 11s 221us/step - loss: 1.2202 - acc: 0.5760 - val_loss: 1.4704 - val_acc: 0.4801\n",
      "Epoch 14/50\n",
      "50000/50000 [==============================] - 12s 236us/step - loss: 1.1953 - acc: 0.5871 - val_loss: 1.4858 - val_acc: 0.4776\n",
      "Epoch 15/50\n",
      "50000/50000 [==============================] - 12s 236us/step - loss: 1.1709 - acc: 0.5962 - val_loss: 1.4639 - val_acc: 0.4823\n",
      "Epoch 16/50\n",
      "50000/50000 [==============================] - 11s 229us/step - loss: 1.1469 - acc: 0.6041 - val_loss: 1.4661 - val_acc: 0.4815\n",
      "Epoch 17/50\n",
      "50000/50000 [==============================] - 12s 241us/step - loss: 1.1250 - acc: 0.6143 - val_loss: 1.4550 - val_acc: 0.4873\n",
      "Epoch 18/50\n",
      "50000/50000 [==============================] - 13s 255us/step - loss: 1.1022 - acc: 0.6211 - val_loss: 1.4555 - val_acc: 0.4816\n",
      "Epoch 19/50\n",
      "50000/50000 [==============================] - 12s 247us/step - loss: 1.0799 - acc: 0.6305 - val_loss: 1.4537 - val_acc: 0.4897\n",
      "Epoch 20/50\n",
      "50000/50000 [==============================] - 13s 262us/step - loss: 1.0584 - acc: 0.6378 - val_loss: 1.4467 - val_acc: 0.4904\n",
      "Epoch 21/50\n",
      "50000/50000 [==============================] - 12s 246us/step - loss: 1.0361 - acc: 0.6482 - val_loss: 1.4523 - val_acc: 0.4907\n",
      "Epoch 22/50\n",
      "50000/50000 [==============================] - 13s 270us/step - loss: 1.0176 - acc: 0.6539 - val_loss: 1.4528 - val_acc: 0.4933\n",
      "Epoch 23/50\n",
      "50000/50000 [==============================] - 12s 247us/step - loss: 0.9950 - acc: 0.6627 - val_loss: 1.4610 - val_acc: 0.4914\n",
      "Epoch 24/50\n",
      "50000/50000 [==============================] - 11s 222us/step - loss: 0.9739 - acc: 0.6725 - val_loss: 1.4592 - val_acc: 0.4944\n",
      "Epoch 25/50\n",
      "50000/50000 [==============================] - 14s 276us/step - loss: 0.9547 - acc: 0.6785 - val_loss: 1.4778 - val_acc: 0.4897\n",
      "Epoch 26/50\n",
      "50000/50000 [==============================] - 12s 244us/step - loss: 0.9341 - acc: 0.6846 - val_loss: 1.4585 - val_acc: 0.4923\n",
      "Epoch 27/50\n",
      "50000/50000 [==============================] - 12s 243us/step - loss: 0.9155 - acc: 0.6942 - val_loss: 1.4717 - val_acc: 0.4918\n",
      "Epoch 28/50\n",
      "50000/50000 [==============================] - 12s 233us/step - loss: 0.8957 - acc: 0.7013 - val_loss: 1.4763 - val_acc: 0.4905\n",
      "Epoch 29/50\n",
      "50000/50000 [==============================] - 11s 227us/step - loss: 0.8740 - acc: 0.7089 - val_loss: 1.4768 - val_acc: 0.4927\n",
      "Epoch 30/50\n",
      "50000/50000 [==============================] - 12s 234us/step - loss: 0.8560 - acc: 0.7179 - val_loss: 1.4957 - val_acc: 0.4866\n",
      "Epoch 31/50\n",
      "50000/50000 [==============================] - 12s 232us/step - loss: 0.8360 - acc: 0.7256 - val_loss: 1.4879 - val_acc: 0.4971\n",
      "Epoch 32/50\n",
      "50000/50000 [==============================] - 12s 232us/step - loss: 0.8165 - acc: 0.7335 - val_loss: 1.4889 - val_acc: 0.4899\n",
      "Epoch 33/50\n",
      "50000/50000 [==============================] - 12s 232us/step - loss: 0.7984 - acc: 0.7393 - val_loss: 1.4899 - val_acc: 0.4951\n",
      "Epoch 34/50\n",
      "50000/50000 [==============================] - 11s 229us/step - loss: 0.7793 - acc: 0.7487 - val_loss: 1.5015 - val_acc: 0.4939\n",
      "Epoch 35/50\n",
      "50000/50000 [==============================] - 12s 246us/step - loss: 0.7612 - acc: 0.7538 - val_loss: 1.5146 - val_acc: 0.4929\n",
      "Epoch 36/50\n",
      "50000/50000 [==============================] - 12s 238us/step - loss: 0.7418 - acc: 0.7633 - val_loss: 1.5204 - val_acc: 0.4938\n",
      "Epoch 37/50\n",
      "50000/50000 [==============================] - 13s 259us/step - loss: 0.7228 - acc: 0.7696 - val_loss: 1.5547 - val_acc: 0.4856\n",
      "Epoch 38/50\n",
      "50000/50000 [==============================] - 12s 245us/step - loss: 0.7039 - acc: 0.7775 - val_loss: 1.5296 - val_acc: 0.4974\n",
      "Epoch 39/50\n",
      "50000/50000 [==============================] - 12s 244us/step - loss: 0.6845 - acc: 0.7856 - val_loss: 1.5400 - val_acc: 0.4930\n",
      "Epoch 40/50\n",
      "50000/50000 [==============================] - 12s 248us/step - loss: 0.6654 - acc: 0.7930 - val_loss: 1.5565 - val_acc: 0.4885\n",
      "Epoch 41/50\n",
      "50000/50000 [==============================] - 12s 244us/step - loss: 0.6504 - acc: 0.8009 - val_loss: 1.5770 - val_acc: 0.4923\n",
      "Epoch 42/50\n",
      "50000/50000 [==============================] - 12s 246us/step - loss: 0.6351 - acc: 0.8055 - val_loss: 1.5771 - val_acc: 0.4937\n",
      "Epoch 43/50\n",
      "50000/50000 [==============================] - 12s 250us/step - loss: 0.6161 - acc: 0.8131 - val_loss: 1.5890 - val_acc: 0.4919\n",
      "Epoch 44/50\n",
      "50000/50000 [==============================] - 12s 247us/step - loss: 0.5999 - acc: 0.8205 - val_loss: 1.5855 - val_acc: 0.4914\n",
      "Epoch 45/50\n",
      "50000/50000 [==============================] - 13s 264us/step - loss: 0.5812 - acc: 0.8274 - val_loss: 1.6125 - val_acc: 0.4911\n",
      "Epoch 46/50\n",
      "50000/50000 [==============================] - 13s 252us/step - loss: 0.5635 - acc: 0.8345 - val_loss: 1.6085 - val_acc: 0.4913\n",
      "Epoch 47/50\n",
      "50000/50000 [==============================] - 14s 276us/step - loss: 0.5477 - acc: 0.8410 - val_loss: 1.6328 - val_acc: 0.4901\n",
      "Epoch 48/50\n",
      "50000/50000 [==============================] - 13s 267us/step - loss: 0.5325 - acc: 0.8473 - val_loss: 1.6477 - val_acc: 0.4920\n",
      "Epoch 00048: early stopping\n"
     ]
    }
   ],
   "source": [
    "# 載入 Callbacks\n",
    "\"\"\"Code Here\n",
    "設定 callbacks: Earlystop\n",
    "\"\"\"\n",
    "from keras.callbacks import EarlyStopping\n",
    "\n",
    "earlystop = EarlyStopping(monitor=\"val_acc\", \n",
    "                          patience=10, \n",
    "                          verbose=1,\n",
    "                          mode='max'\n",
    "                          )\n",
    "results = {}\n",
    "\"\"\"Code Here\n",
    "撰寫你的訓練流程並將結果用 dictionary 紀錄\n",
    "\"\"\"\n",
    "\n",
    "model = build_mlp(input_shape=x_train.shape[1:])\n",
    "model.summary()\n",
    "optimizer = keras.optimizers.SGD(lr=LEARNING_RATE, nesterov=True, momentum=MOMENTUM)\n",
    "model.compile(loss=\"categorical_crossentropy\", metrics=[\"accuracy\"], optimizer=optimizer)\n",
    "\n",
    "model.fit(x_train, y_train, \n",
    "          epochs=EPOCHS, \n",
    "          batch_size=BATCH_SIZE, \n",
    "          validation_data=(x_test, y_test), \n",
    "          shuffle=True,\n",
    "          callbacks=[earlystop]\n",
    "         )\n",
    "\n",
    "# Collect results\n",
    "train_loss = model.history.history[\"loss\"]\n",
    "valid_loss = model.history.history[\"val_loss\"]\n",
    "train_acc = model.history.history[\"acc\"]\n",
    "valid_acc = model.history.history[\"val_acc\"]"
   ]
  },
  {
   "cell_type": "code",
   "execution_count": 11,
   "metadata": {},
   "outputs": [
    {
     "data": {
      "image/png": "[encoded data removed]",
      "text/plain": [
       "<Figure size 432x288 with 1 Axes>"
      ]
     },
     "metadata": {
      "needs_background": "light"
     },
     "output_type": "display_data"
    },
    {
     "data": {
      "image/png": "[encoded data removed]",
      "text/plain": [
       "<Figure size 432x288 with 1 Axes>"
      ]
     },
     "metadata": {
      "needs_background": "light"
     },
     "output_type": "display_data"
    }
   ],
   "source": [
    "import matplotlib.pyplot as plt\n",
    "%matplotlib inline\n",
    "\"\"\"Code Here\n",
    "將結果繪出\n",
    "\"\"\"\n",
    "\n",
    "plt.plot(range(len(train_loss)), train_loss, label=\"train loss\")\n",
    "plt.plot(range(len(valid_loss)), valid_loss, label=\"valid loss\")\n",
    "plt.legend()\n",
    "plt.title(\"Loss\")\n",
    "plt.show()\n",
    "\n",
    "plt.plot(range(len(train_acc)), train_acc, label=\"train accuracy\")\n",
    "plt.plot(range(len(valid_acc)), valid_acc, label=\"valid accuracy\")\n",
    "plt.legend()\n",
    "plt.title(\"Accuracy\")\n",
    "plt.show()"
   ]
  },
  {
   "cell_type": "code",
   "execution_count": null,
   "metadata": {},
   "outputs": [],
   "source": []
  }
 ],
 "metadata": {
  "kernelspec": {
   "display_name": "Python 2",
   "language": "python",
   "name": "python2"
  },
  "language_info": {
   "codemirror_mode": {
    "name": "ipython",
    "version": 2
   },
   "file_extension": ".py",
   "mimetype": "text/x-python",
   "name": "python",
   "nbconvert_exporter": "python",
   "pygments_lexer": "ipython2",
   "version": "2.7.16"
  }
 },
 "nbformat": 4,
 "nbformat_minor": 2
}
