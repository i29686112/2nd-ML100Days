{
 "cells": [
  {
   "cell_type": "markdown",
   "metadata": {},
   "source": [
    "## Work\n",
    "1. 請嘗試將 preproc_x 替換成以每筆資料的 min/max 進行標準化至 -1 ~ 1 間，再進行訓練\n",
    "2. 請嘗試將 mlp 疊更深 (e.g 5~10 層)，進行訓練後觀察 learning curve 的走勢\n",
    "3. (optional) 請改用 GPU 進行訓練 (如果你有 GPU 的話)，比較使用 CPU 與 GPU 的訓練速度"
   ]
  },
  {
   "cell_type": "code",
   "execution_count": 62,
   "metadata": {},
   "outputs": [
    {
     "name": "stdout",
     "output_type": "stream",
     "text": [
      "/bin/sh: nvidia-smi: command not found\r\n"
     ]
    }
   ],
   "source": [
    "## \n",
    "\"\"\"\n",
    "Your code here (optional)\n",
    "確認硬體資源\n",
    "\"\"\"\n",
    "!nvidia-smi\n"
   ]
  },
  {
   "cell_type": "code",
   "execution_count": 63,
   "metadata": {},
   "outputs": [],
   "source": [
    "import os\n",
    "import keras\n",
    "\n",
    "# 請嘗試設定 GPU：os.environ\n",
    "import os\n",
    "import keras\n",
    "\n",
    "# 本範例不需使用 GPU, 將 GPU 設定為 \"無\"\n",
    "os.environ[\"CUDA_VISIBLE_DEVICES\"] = \"0\"\n",
    "os.environ['KMP_DUPLICATE_LIB_OK']='True'"
   ]
  },
  {
   "cell_type": "code",
   "execution_count": 64,
   "metadata": {},
   "outputs": [],
   "source": [
    "train, test = keras.datasets.cifar10.load_data()"
   ]
  },
  {
   "cell_type": "code",
   "execution_count": 65,
   "metadata": {},
   "outputs": [],
   "source": [
    "from sklearn import preprocessing\n",
    "\n",
    "## 資料前處理\n",
    "def preproc_x(x, flatten=True):\n",
    "    x = (x-x.min())/float(x.max()-x.min())\n",
    "    x = x.reshape((len(x), -1))\n",
    "    return x\n",
    "\n",
    "def preproc_y(y, num_classes=10):\n",
    "    if y.shape[-1] == 1:\n",
    "        y = keras.utils.to_categorical(y, num_classes)\n",
    "    return y  "
   ]
  },
  {
   "cell_type": "code",
   "execution_count": 66,
   "metadata": {},
   "outputs": [],
   "source": [
    "x_train, y_train = train\n",
    "x_test, y_test = test\n",
    "\n",
    "# Preproc the inputs\n",
    "x_train = preproc_x(x_train)\n",
    "x_test = preproc_x(x_test)\n",
    "\n",
    "# Preprc the outputs\n",
    "y_train = preproc_y(y_train)\n",
    "y_test = preproc_y(y_test)"
   ]
  },
  {
   "cell_type": "code",
   "execution_count": 67,
   "metadata": {},
   "outputs": [
    {
     "name": "stdout",
     "output_type": "stream",
     "text": [
      "_________________________________________________________________\n",
      "Layer (type)                 Output Shape              Param #   \n",
      "=================================================================\n",
      "input_5 (InputLayer)         (None, 3072)              0         \n",
      "_________________________________________________________________\n",
      "hidden_layer1 (Dense)        (None, 512)               1573376   \n",
      "_________________________________________________________________\n",
      "hidden_layer2 (Dense)        (None, 256)               131328    \n",
      "_________________________________________________________________\n",
      "hidden_layer3 (Dense)        (None, 128)               32896     \n",
      "_________________________________________________________________\n",
      "hidden_layer4 (Dense)        (None, 64)                8256      \n",
      "_________________________________________________________________\n",
      "hidden_layer5 (Dense)        (None, 32)                2080      \n",
      "_________________________________________________________________\n",
      "output (Dense)               (None, 10)                330       \n",
      "=================================================================\n",
      "Total params: 1,748,266\n",
      "Trainable params: 1,748,266\n",
      "Non-trainable params: 0\n",
      "_________________________________________________________________\n"
     ]
    }
   ],
   "source": [
    "\"\"\"Code Here\n",
    "建立你的神經網路\n",
    "\"\"\"\n",
    "def build_mlp(input_shape, output_units=10, num_neurons=[512, 256, 128, 64, 32]):\n",
    "    input_layer = keras.layers.Input(input_shape)\n",
    "    \n",
    "    for i, n_units in enumerate(num_neurons):\n",
    "        if i == 0:\n",
    "            x = keras.layers.Dense(units=n_units, activation=\"relu\", name=\"hidden_layer\"+str(i+1))(input_layer)\n",
    "        else:\n",
    "            x = keras.layers.Dense(units=n_units, activation=\"relu\", name=\"hidden_layer\"+str(i+1))(x)\n",
    "    \n",
    "    out = keras.layers.Dense(units=output_units, activation=\"softmax\", name=\"output\")(x)\n",
    "    \n",
    "    model = keras.models.Model(inputs=[input_layer], outputs=[out])\n",
    "    return model\n",
    "\n",
    "model = build_mlp(input_shape=x_train.shape[1:])\n",
    "\n",
    "model.summary()"
   ]
  },
  {
   "cell_type": "code",
   "execution_count": 68,
   "metadata": {},
   "outputs": [],
   "source": [
    "## 超參數設定\n",
    "LEARNING_RATE = 0.001\n",
    "EPOCHS = 100\n",
    "BATCH_SIZE = 256"
   ]
  },
  {
   "cell_type": "code",
   "execution_count": 69,
   "metadata": {},
   "outputs": [],
   "source": [
    "optimizer = keras.optimizers.Adam(lr=LEARNING_RATE)\n",
    "model.compile(loss=\"categorical_crossentropy\", metrics=[\"accuracy\"], optimizer=optimizer)"
   ]
  },
  {
   "cell_type": "code",
   "execution_count": 70,
   "metadata": {},
   "outputs": [
    {
     "name": "stdout",
     "output_type": "stream",
     "text": [
      "WARNING:tensorflow:From /Users/Ian/anaconda2/lib/python2.7/site-packages/tensorflow/python/ops/math_ops.py:3066: to_int32 (from tensorflow.python.ops.math_ops) is deprecated and will be removed in a future version.\n",
      "Instructions for updating:\n",
      "Use tf.cast instead.\n",
      "Train on 50000 samples, validate on 10000 samples\n",
      "Epoch 1/100\n",
      "50000/50000 [==============================] - 21s 426us/step - loss: 1.9946 - acc: 0.2601 - val_loss: 1.8264 - val_acc: 0.3324\n",
      "Epoch 2/100\n",
      "50000/50000 [==============================] - 19s 370us/step - loss: 1.7622 - acc: 0.3649 - val_loss: 1.7042 - val_acc: 0.3871\n",
      "Epoch 3/100\n",
      "50000/50000 [==============================] - 18s 357us/step - loss: 1.6671 - acc: 0.4000 - val_loss: 1.6425 - val_acc: 0.4129\n",
      "Epoch 4/100\n",
      "50000/50000 [==============================] - 17s 349us/step - loss: 1.5969 - acc: 0.4279 - val_loss: 1.5474 - val_acc: 0.4494\n",
      "Epoch 5/100\n",
      "50000/50000 [==============================] - 17s 343us/step - loss: 1.5332 - acc: 0.4505 - val_loss: 1.5195 - val_acc: 0.4535\n",
      "Epoch 6/100\n",
      "50000/50000 [==============================] - 17s 337us/step - loss: 1.5066 - acc: 0.4608 - val_loss: 1.5230 - val_acc: 0.4573\n",
      "Epoch 7/100\n",
      "50000/50000 [==============================] - 17s 339us/step - loss: 1.4617 - acc: 0.4798 - val_loss: 1.5204 - val_acc: 0.4599\n",
      "Epoch 8/100\n",
      "50000/50000 [==============================] - 17s 343us/step - loss: 1.4273 - acc: 0.4899 - val_loss: 1.4852 - val_acc: 0.4716\n",
      "Epoch 9/100\n",
      "50000/50000 [==============================] - 17s 336us/step - loss: 1.3974 - acc: 0.5013 - val_loss: 1.4868 - val_acc: 0.4670\n",
      "Epoch 10/100\n",
      "50000/50000 [==============================] - 17s 336us/step - loss: 1.3781 - acc: 0.5086 - val_loss: 1.4350 - val_acc: 0.4860\n",
      "Epoch 11/100\n",
      "50000/50000 [==============================] - 17s 339us/step - loss: 1.3436 - acc: 0.5214 - val_loss: 1.4295 - val_acc: 0.4929\n",
      "Epoch 12/100\n",
      "50000/50000 [==============================] - 17s 346us/step - loss: 1.3359 - acc: 0.5245 - val_loss: 1.4118 - val_acc: 0.4993\n",
      "Epoch 13/100\n",
      "50000/50000 [==============================] - 17s 345us/step - loss: 1.3086 - acc: 0.5323 - val_loss: 1.3984 - val_acc: 0.5003\n",
      "Epoch 14/100\n",
      "50000/50000 [==============================] - 17s 339us/step - loss: 1.2819 - acc: 0.5425 - val_loss: 1.4005 - val_acc: 0.5037\n",
      "Epoch 15/100\n",
      "50000/50000 [==============================] - 17s 345us/step - loss: 1.2602 - acc: 0.5504 - val_loss: 1.4125 - val_acc: 0.4997\n",
      "Epoch 16/100\n",
      "50000/50000 [==============================] - 17s 338us/step - loss: 1.2382 - acc: 0.5591 - val_loss: 1.4860 - val_acc: 0.4850\n",
      "Epoch 17/100\n",
      "50000/50000 [==============================] - 17s 346us/step - loss: 1.2156 - acc: 0.5668 - val_loss: 1.4005 - val_acc: 0.5093\n",
      "Epoch 18/100\n",
      "50000/50000 [==============================] - 17s 349us/step - loss: 1.2014 - acc: 0.5724 - val_loss: 1.3652 - val_acc: 0.5186\n",
      "Epoch 19/100\n",
      "50000/50000 [==============================] - 17s 343us/step - loss: 1.1821 - acc: 0.5780 - val_loss: 1.3833 - val_acc: 0.5166\n",
      "Epoch 20/100\n",
      "50000/50000 [==============================] - 17s 349us/step - loss: 1.1574 - acc: 0.5885 - val_loss: 1.4136 - val_acc: 0.5087\n",
      "Epoch 21/100\n",
      "50000/50000 [==============================] - 17s 345us/step - loss: 1.1408 - acc: 0.5927 - val_loss: 1.3930 - val_acc: 0.5098\n",
      "Epoch 22/100\n",
      "50000/50000 [==============================] - 18s 357us/step - loss: 1.1170 - acc: 0.6025 - val_loss: 1.3725 - val_acc: 0.5205\n",
      "Epoch 23/100\n",
      "50000/50000 [==============================] - 18s 364us/step - loss: 1.1004 - acc: 0.6082 - val_loss: 1.4098 - val_acc: 0.5158\n",
      "Epoch 24/100\n",
      "50000/50000 [==============================] - 23s 452us/step - loss: 1.0762 - acc: 0.6165 - val_loss: 1.3908 - val_acc: 0.5273\n",
      "Epoch 25/100\n",
      "50000/50000 [==============================] - 19s 384us/step - loss: 1.0542 - acc: 0.6244 - val_loss: 1.3966 - val_acc: 0.5228\n",
      "Epoch 26/100\n",
      "50000/50000 [==============================] - 19s 380us/step - loss: 1.0305 - acc: 0.6317 - val_loss: 1.4123 - val_acc: 0.5180\n",
      "Epoch 27/100\n",
      "50000/50000 [==============================] - 19s 382us/step - loss: 1.0191 - acc: 0.6357 - val_loss: 1.4122 - val_acc: 0.5157\n",
      "Epoch 28/100\n",
      "50000/50000 [==============================] - 21s 412us/step - loss: 0.9978 - acc: 0.6436 - val_loss: 1.4458 - val_acc: 0.5160\n",
      "Epoch 29/100\n",
      "50000/50000 [==============================] - 18s 361us/step - loss: 0.9782 - acc: 0.6508 - val_loss: 1.4232 - val_acc: 0.5259\n",
      "Epoch 30/100\n",
      "50000/50000 [==============================] - 22s 431us/step - loss: 0.9578 - acc: 0.6595 - val_loss: 1.4318 - val_acc: 0.5210\n",
      "Epoch 31/100\n",
      "50000/50000 [==============================] - 23s 453us/step - loss: 0.9390 - acc: 0.6665 - val_loss: 1.4470 - val_acc: 0.5233\n",
      "Epoch 32/100\n",
      "50000/50000 [==============================] - 20s 401us/step - loss: 0.9267 - acc: 0.6673 - val_loss: 1.4707 - val_acc: 0.5257\n",
      "Epoch 33/100\n",
      "50000/50000 [==============================] - 21s 415us/step - loss: 0.9136 - acc: 0.6748 - val_loss: 1.4920 - val_acc: 0.5160\n",
      "Epoch 34/100\n",
      "50000/50000 [==============================] - 19s 376us/step - loss: 0.8872 - acc: 0.6845 - val_loss: 1.5026 - val_acc: 0.5135\n",
      "Epoch 35/100\n",
      "50000/50000 [==============================] - 19s 375us/step - loss: 0.8722 - acc: 0.6881 - val_loss: 1.5162 - val_acc: 0.5162\n",
      "Epoch 36/100\n",
      "50000/50000 [==============================] - 18s 351us/step - loss: 0.8500 - acc: 0.6959 - val_loss: 1.5381 - val_acc: 0.5094\n",
      "Epoch 37/100\n",
      "50000/50000 [==============================] - 17s 342us/step - loss: 0.8320 - acc: 0.7032 - val_loss: 1.5416 - val_acc: 0.5242\n",
      "Epoch 38/100\n",
      "50000/50000 [==============================] - 16s 322us/step - loss: 0.8103 - acc: 0.7117 - val_loss: 1.5436 - val_acc: 0.5215\n",
      "Epoch 39/100\n",
      "50000/50000 [==============================] - 16s 327us/step - loss: 0.8184 - acc: 0.7063 - val_loss: 1.5417 - val_acc: 0.5208\n",
      "Epoch 40/100\n",
      "50000/50000 [==============================] - 18s 356us/step - loss: 0.7786 - acc: 0.7218 - val_loss: 1.5988 - val_acc: 0.5155\n",
      "Epoch 41/100\n",
      "50000/50000 [==============================] - 17s 331us/step - loss: 0.7849 - acc: 0.7199 - val_loss: 1.5694 - val_acc: 0.5269\n",
      "Epoch 42/100\n",
      "50000/50000 [==============================] - 16s 323us/step - loss: 0.7582 - acc: 0.7295 - val_loss: 1.5855 - val_acc: 0.5154\n",
      "Epoch 43/100\n",
      "50000/50000 [==============================] - 21s 423us/step - loss: 0.7467 - acc: 0.7327 - val_loss: 1.6258 - val_acc: 0.5233\n",
      "Epoch 44/100\n",
      "50000/50000 [==============================] - 19s 379us/step - loss: 0.7258 - acc: 0.7406 - val_loss: 1.7105 - val_acc: 0.5062\n",
      "Epoch 45/100\n",
      "50000/50000 [==============================] - 19s 382us/step - loss: 0.7084 - acc: 0.7457 - val_loss: 1.6988 - val_acc: 0.5090\n",
      "Epoch 46/100\n",
      "50000/50000 [==============================] - 18s 369us/step - loss: 0.6967 - acc: 0.7512 - val_loss: 1.7250 - val_acc: 0.5065\n",
      "Epoch 47/100\n",
      "50000/50000 [==============================] - 18s 361us/step - loss: 0.6860 - acc: 0.7531 - val_loss: 1.7275 - val_acc: 0.5151\n",
      "Epoch 48/100\n",
      "50000/50000 [==============================] - 18s 356us/step - loss: 0.6717 - acc: 0.7589 - val_loss: 1.7375 - val_acc: 0.5176\n",
      "Epoch 49/100\n",
      "50000/50000 [==============================] - 17s 339us/step - loss: 0.6456 - acc: 0.7679 - val_loss: 1.7956 - val_acc: 0.5174\n",
      "Epoch 50/100\n",
      "50000/50000 [==============================] - 19s 383us/step - loss: 0.6366 - acc: 0.7731 - val_loss: 1.8473 - val_acc: 0.5118\n",
      "Epoch 51/100\n",
      "50000/50000 [==============================] - 17s 348us/step - loss: 0.6402 - acc: 0.7714 - val_loss: 1.8504 - val_acc: 0.5042\n",
      "Epoch 52/100\n",
      "50000/50000 [==============================] - 17s 337us/step - loss: 0.6201 - acc: 0.7788 - val_loss: 1.8653 - val_acc: 0.5111\n",
      "Epoch 53/100\n",
      "50000/50000 [==============================] - 17s 335us/step - loss: 0.5957 - acc: 0.7883 - val_loss: 1.9249 - val_acc: 0.5088\n",
      "Epoch 54/100\n",
      "50000/50000 [==============================] - 17s 345us/step - loss: 0.5884 - acc: 0.7886 - val_loss: 1.9150 - val_acc: 0.5068\n",
      "Epoch 55/100\n",
      "50000/50000 [==============================] - 17s 338us/step - loss: 0.5747 - acc: 0.7945 - val_loss: 2.0213 - val_acc: 0.4981\n",
      "Epoch 56/100\n",
      "50000/50000 [==============================] - 18s 354us/step - loss: 0.5868 - acc: 0.7898 - val_loss: 1.9702 - val_acc: 0.5119\n"
     ]
    },
    {
     "name": "stdout",
     "output_type": "stream",
     "text": [
      "Epoch 57/100\n",
      "50000/50000 [==============================] - 19s 371us/step - loss: 0.5537 - acc: 0.8031 - val_loss: 1.9558 - val_acc: 0.5028\n",
      "Epoch 58/100\n",
      "50000/50000 [==============================] - 19s 380us/step - loss: 0.5523 - acc: 0.8023 - val_loss: 2.0691 - val_acc: 0.5092\n",
      "Epoch 59/100\n",
      "50000/50000 [==============================] - 21s 427us/step - loss: 0.5408 - acc: 0.8053 - val_loss: 2.0202 - val_acc: 0.5070\n",
      "Epoch 60/100\n",
      "50000/50000 [==============================] - 18s 352us/step - loss: 0.5372 - acc: 0.8100 - val_loss: 2.1760 - val_acc: 0.4930\n",
      "Epoch 61/100\n",
      "50000/50000 [==============================] - 18s 360us/step - loss: 0.5157 - acc: 0.8147 - val_loss: 2.0989 - val_acc: 0.5098\n",
      "Epoch 62/100\n",
      "50000/50000 [==============================] - 21s 423us/step - loss: 0.4935 - acc: 0.8265 - val_loss: 2.1551 - val_acc: 0.5118\n",
      "Epoch 63/100\n",
      "50000/50000 [==============================] - 19s 377us/step - loss: 0.5051 - acc: 0.8180 - val_loss: 2.1605 - val_acc: 0.5008\n",
      "Epoch 64/100\n",
      "50000/50000 [==============================] - 18s 367us/step - loss: 0.5022 - acc: 0.8199 - val_loss: 2.2697 - val_acc: 0.4977\n",
      "Epoch 65/100\n",
      "50000/50000 [==============================] - 18s 352us/step - loss: 0.4859 - acc: 0.8257 - val_loss: 2.2337 - val_acc: 0.5103\n",
      "Epoch 66/100\n",
      "50000/50000 [==============================] - 18s 352us/step - loss: 0.4682 - acc: 0.8312 - val_loss: 2.2921 - val_acc: 0.4924\n",
      "Epoch 67/100\n",
      "50000/50000 [==============================] - 18s 369us/step - loss: 0.4777 - acc: 0.8299 - val_loss: 2.3215 - val_acc: 0.4908\n",
      "Epoch 68/100\n",
      "50000/50000 [==============================] - 19s 386us/step - loss: 0.4466 - acc: 0.8403 - val_loss: 2.3269 - val_acc: 0.5061\n",
      "Epoch 69/100\n",
      "50000/50000 [==============================] - 21s 426us/step - loss: 0.4147 - acc: 0.8511 - val_loss: 2.3333 - val_acc: 0.5034\n",
      "Epoch 70/100\n",
      "50000/50000 [==============================] - 20s 402us/step - loss: 0.4310 - acc: 0.8432 - val_loss: 2.4466 - val_acc: 0.5010\n",
      "Epoch 71/100\n",
      "50000/50000 [==============================] - 18s 363us/step - loss: 0.4435 - acc: 0.8395 - val_loss: 2.4140 - val_acc: 0.5038\n",
      "Epoch 72/100\n",
      "50000/50000 [==============================] - 18s 364us/step - loss: 0.4369 - acc: 0.8422 - val_loss: 2.4261 - val_acc: 0.4983\n",
      "Epoch 73/100\n",
      "50000/50000 [==============================] - 21s 415us/step - loss: 0.4208 - acc: 0.8493 - val_loss: 2.4640 - val_acc: 0.4950\n",
      "Epoch 74/100\n",
      "50000/50000 [==============================] - 19s 371us/step - loss: 0.4272 - acc: 0.8456 - val_loss: 2.5095 - val_acc: 0.5025\n",
      "Epoch 75/100\n",
      "50000/50000 [==============================] - 17s 347us/step - loss: 0.4031 - acc: 0.8547 - val_loss: 2.4694 - val_acc: 0.5026\n",
      "Epoch 76/100\n",
      "50000/50000 [==============================] - 17s 336us/step - loss: 0.4022 - acc: 0.8547 - val_loss: 2.5690 - val_acc: 0.4950\n",
      "Epoch 77/100\n",
      "50000/50000 [==============================] - 17s 348us/step - loss: 0.4035 - acc: 0.8537 - val_loss: 2.5774 - val_acc: 0.4953\n",
      "Epoch 78/100\n",
      "50000/50000 [==============================] - 21s 414us/step - loss: 0.3858 - acc: 0.8610 - val_loss: 2.5805 - val_acc: 0.5018\n",
      "Epoch 79/100\n",
      "50000/50000 [==============================] - 19s 383us/step - loss: 0.3713 - acc: 0.8670 - val_loss: 2.5804 - val_acc: 0.5049\n",
      "Epoch 80/100\n",
      "50000/50000 [==============================] - 20s 395us/step - loss: 0.4006 - acc: 0.8548 - val_loss: 2.7145 - val_acc: 0.5035\n",
      "Epoch 81/100\n",
      "50000/50000 [==============================] - 18s 350us/step - loss: 0.3600 - acc: 0.8704 - val_loss: 2.6285 - val_acc: 0.5037\n",
      "Epoch 82/100\n",
      "50000/50000 [==============================] - 17s 341us/step - loss: 0.3623 - acc: 0.8693 - val_loss: 2.6727 - val_acc: 0.5012\n",
      "Epoch 83/100\n",
      "50000/50000 [==============================] - 23s 454us/step - loss: 0.3512 - acc: 0.8729 - val_loss: 2.7511 - val_acc: 0.4968\n",
      "Epoch 84/100\n",
      "50000/50000 [==============================] - 21s 419us/step - loss: 0.3615 - acc: 0.8695 - val_loss: 2.7436 - val_acc: 0.5007\n",
      "Epoch 85/100\n",
      "50000/50000 [==============================] - 20s 392us/step - loss: 0.3381 - acc: 0.8791 - val_loss: 2.7810 - val_acc: 0.5021\n",
      "Epoch 86/100\n",
      "50000/50000 [==============================] - 19s 387us/step - loss: 0.3398 - acc: 0.8779 - val_loss: 2.7997 - val_acc: 0.4912\n",
      "Epoch 87/100\n",
      "50000/50000 [==============================] - 17s 335us/step - loss: 0.3424 - acc: 0.8765 - val_loss: 2.8424 - val_acc: 0.4956\n",
      "Epoch 88/100\n",
      "50000/50000 [==============================] - 16s 329us/step - loss: 0.3449 - acc: 0.8758 - val_loss: 2.8099 - val_acc: 0.5043\n",
      "Epoch 89/100\n",
      "50000/50000 [==============================] - 17s 337us/step - loss: 0.3466 - acc: 0.8727 - val_loss: 2.8501 - val_acc: 0.5012\n",
      "Epoch 90/100\n",
      "50000/50000 [==============================] - 17s 343us/step - loss: 0.3262 - acc: 0.8838 - val_loss: 2.9399 - val_acc: 0.4982\n",
      "Epoch 91/100\n",
      "50000/50000 [==============================] - 19s 385us/step - loss: 0.3134 - acc: 0.8875 - val_loss: 2.9583 - val_acc: 0.4967\n",
      "Epoch 92/100\n",
      "50000/50000 [==============================] - 18s 365us/step - loss: 0.3010 - acc: 0.8914 - val_loss: 2.9090 - val_acc: 0.5000\n",
      "Epoch 93/100\n",
      "50000/50000 [==============================] - 16s 322us/step - loss: 0.3336 - acc: 0.8795 - val_loss: 2.9398 - val_acc: 0.4994\n",
      "Epoch 94/100\n",
      "50000/50000 [==============================] - 17s 335us/step - loss: 0.2868 - acc: 0.8970 - val_loss: 2.9671 - val_acc: 0.4977\n",
      "Epoch 95/100\n",
      "50000/50000 [==============================] - 17s 336us/step - loss: 0.2749 - acc: 0.9028 - val_loss: 2.9705 - val_acc: 0.5009\n",
      "Epoch 96/100\n",
      "50000/50000 [==============================] - 17s 346us/step - loss: 0.2975 - acc: 0.8933 - val_loss: 3.0666 - val_acc: 0.4999\n",
      "Epoch 97/100\n",
      "50000/50000 [==============================] - 21s 413us/step - loss: 0.3307 - acc: 0.8822 - val_loss: 2.9879 - val_acc: 0.5021\n",
      "Epoch 98/100\n",
      "50000/50000 [==============================] - 18s 359us/step - loss: 0.3092 - acc: 0.8898 - val_loss: 3.0416 - val_acc: 0.4925\n",
      "Epoch 99/100\n",
      "50000/50000 [==============================] - 21s 411us/step - loss: 0.3243 - acc: 0.8828 - val_loss: 3.0007 - val_acc: 0.4947\n",
      "Epoch 100/100\n",
      "50000/50000 [==============================] - 17s 348us/step - loss: 0.3066 - acc: 0.8881 - val_loss: 3.0387 - val_acc: 0.5066\n"
     ]
    },
    {
     "data": {
      "text/plain": [
       "<keras.callbacks.History at 0xb3fee5a50>"
      ]
     },
     "execution_count": 70,
     "metadata": {},
     "output_type": "execute_result"
    }
   ],
   "source": [
    "model.fit(x_train, y_train, \n",
    "          epochs=EPOCHS, \n",
    "          batch_size=BATCH_SIZE, \n",
    "          validation_data=(x_test, y_test), \n",
    "          shuffle=True)"
   ]
  },
  {
   "cell_type": "code",
   "execution_count": 71,
   "metadata": {},
   "outputs": [
    {
     "data": {
      "text/plain": [
       "<Figure size 640x480 with 1 Axes>"
      ]
     },
     "metadata": {},
     "output_type": "display_data"
    },
    {
     "data": {
      "text/plain": [
       "<Figure size 640x480 with 1 Axes>"
      ]
     },
     "metadata": {},
     "output_type": "display_data"
    }
   ],
   "source": [
    "import matplotlib.pyplot as plt\n",
    "\n",
    "\n",
    "train_loss = model.history.history[\"loss\"]\n",
    "valid_loss = model.history.history[\"val_loss\"]\n",
    "\n",
    "train_acc = model.history.history[\"acc\"]\n",
    "valid_acc = model.history.history[\"val_acc\"]\n",
    "\n",
    "plt.plot(range(len(train_loss)), train_loss, label=\"train loss\")\n",
    "plt.plot(range(len(valid_loss)), valid_loss, label=\"valid loss\")\n",
    "plt.legend()\n",
    "plt.title(\"Loss\")\n",
    "plt.show()\n",
    "\n",
    "plt.plot(range(len(train_acc)), train_acc, label=\"train accuracy\")\n",
    "plt.plot(range(len(valid_acc)), valid_acc, label=\"valid accuracy\")\n",
    "plt.legend()\n",
    "plt.title(\"Accuracy\")\n",
    "plt.show()"
   ]
  }
 ],
 "metadata": {
  "kernelspec": {
   "display_name": "Python 2",
   "language": "python",
   "name": "python2"
  },
  "language_info": {
   "codemirror_mode": {
    "name": "ipython",
    "version": 2
   },
   "file_extension": ".py",
   "mimetype": "text/x-python",
   "name": "python",
   "nbconvert_exporter": "python",
   "pygments_lexer": "ipython2",
   "version": "2.7.16"
  }
 },
 "nbformat": 4,
 "nbformat_minor": 2
}
