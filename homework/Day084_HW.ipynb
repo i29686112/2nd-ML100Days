{
 "cells": [
  {
   "cell_type": "markdown",
   "metadata": {},
   "source": [
    "## Work\n",
    "### 請結合前面的知識與程式碼，比較不同的 regularization 的組合對訓練的結果與影響：如 dropout, regularizers, batch-normalization 等"
   ]
  },
  {
   "cell_type": "code",
   "execution_count": 1,
   "metadata": {},
   "outputs": [
    {
     "name": "stderr",
     "output_type": "stream",
     "text": [
      "Using TensorFlow backend.\n"
     ]
    }
   ],
   "source": [
    "import os\n",
    "import keras\n",
    "import itertools\n",
    "# Disable GPU\n",
    "os.environ[\"CUDA_VISIBLE_DEVICES\"] = \"\"\n",
    "os.environ['KMP_DUPLICATE_LIB_OK']='True'"
   ]
  },
  {
   "cell_type": "code",
   "execution_count": 2,
   "metadata": {},
   "outputs": [],
   "source": [
    "train, test = keras.datasets.cifar10.load_data()"
   ]
  },
  {
   "cell_type": "code",
   "execution_count": 3,
   "metadata": {},
   "outputs": [],
   "source": [
    "## 資料前處理\n",
    "def preproc_x(x, flatten=True):\n",
    "    x = x / 255.\n",
    "    if flatten:\n",
    "        x = x.reshape((len(x), -1))\n",
    "    return x\n",
    "\n",
    "def preproc_y(y, num_classes=10):\n",
    "    if y.shape[-1] == 1:\n",
    "        y = keras.utils.to_categorical(y, num_classes)\n",
    "    return y    "
   ]
  },
  {
   "cell_type": "code",
   "execution_count": 4,
   "metadata": {},
   "outputs": [],
   "source": [
    "x_train, y_train = train\n",
    "x_test, y_test = test\n",
    "\n",
    "# Preproc the inputs\n",
    "x_train = preproc_x(x_train)\n",
    "x_test = preproc_x(x_test)\n",
    "\n",
    "# Preprc the outputs\n",
    "y_train = preproc_y(y_train)\n",
    "y_test = preproc_y(y_test)"
   ]
  },
  {
   "cell_type": "code",
   "execution_count": 5,
   "metadata": {},
   "outputs": [],
   "source": [
    "#d81\n",
    "from keras.regularizers import l1, l2, l1_l2\n",
    "\n",
    "#d82\n",
    "from keras.layers import Dropout\n",
    "\n",
    "\n",
    "#d83\n",
    "from keras.layers import BatchNormalization\n",
    "\n",
    "\"\"\"\n",
    "建立神經網路，並加入 BN layer\n",
    "\"\"\"\n",
    "def build_mlp(input_shape, output_units=10, num_neurons=[512, 256, 128], l1_ratio=1e-4,drp_ratio=0.4):\n",
    "    input_layer = keras.layers.Input(input_shape)\n",
    "    \n",
    "    for i, n_units in enumerate(num_neurons):\n",
    "        if i == 0:\n",
    "            x = keras.layers.Dense(units=n_units, \n",
    "                                   activation=\"relu\", \n",
    "                                   name=\"hidden_layer\"+str(i+1), \n",
    "                                   kernel_regularizer=l1(l1_ratio))(input_layer)\n",
    "            x = Dropout(drp_ratio)(x)\n",
    "            \n",
    "        else:\n",
    "            x = BatchNormalization()(x)\n",
    "            x = keras.layers.Dense(units=n_units, \n",
    "                                   activation=\"relu\", \n",
    "                                   name=\"hidden_layer\"+str(i+1), \n",
    "                                   kernel_regularizer=l1(l1_ratio))(x)\n",
    "            x = Dropout(drp_ratio)(x)\n",
    "            \n",
    "    \n",
    "    out = keras.layers.Dense(units=output_units, activation=\"softmax\", name=\"output\")(x)\n",
    "    \n",
    "    model = keras.models.Model(inputs=[input_layer], outputs=[out])\n",
    "    return model"
   ]
  },
  {
   "cell_type": "code",
   "execution_count": 6,
   "metadata": {},
   "outputs": [],
   "source": [
    "## 超參數設定\n",
    "LEARNING_RATE = 1e-3\n",
    "EPOCHS = 50\n",
    "BATCH_SIZE = 1024\n",
    "MOMENTUM = 0.95"
   ]
  },
  {
   "cell_type": "code",
   "execution_count": 7,
   "metadata": {
    "scrolled": true
   },
   "outputs": [
    {
     "name": "stdout",
     "output_type": "stream",
     "text": [
      "WARNING:tensorflow:From /Users/Ian/anaconda2/lib/python2.7/site-packages/tensorflow/python/framework/op_def_library.py:263: colocate_with (from tensorflow.python.framework.ops) is deprecated and will be removed in a future version.\n",
      "Instructions for updating:\n",
      "Colocations handled automatically by placer.\n",
      "WARNING:tensorflow:From /Users/Ian/anaconda2/lib/python2.7/site-packages/keras/backend/tensorflow_backend.py:3445: calling dropout (from tensorflow.python.ops.nn_ops) with keep_prob is deprecated and will be removed in a future version.\n",
      "Instructions for updating:\n",
      "Please use `rate` instead of `keep_prob`. Rate should be set to `rate = 1 - keep_prob`.\n",
      "_________________________________________________________________\n",
      "Layer (type)                 Output Shape              Param #   \n",
      "=================================================================\n",
      "input_1 (InputLayer)         (None, 3072)              0         \n",
      "_________________________________________________________________\n",
      "hidden_layer1 (Dense)        (None, 512)               1573376   \n",
      "_________________________________________________________________\n",
      "dropout_1 (Dropout)          (None, 512)               0         \n",
      "_________________________________________________________________\n",
      "batch_normalization_1 (Batch (None, 512)               2048      \n",
      "_________________________________________________________________\n",
      "hidden_layer2 (Dense)        (None, 256)               131328    \n",
      "_________________________________________________________________\n",
      "dropout_2 (Dropout)          (None, 256)               0         \n",
      "_________________________________________________________________\n",
      "batch_normalization_2 (Batch (None, 256)               1024      \n",
      "_________________________________________________________________\n",
      "hidden_layer3 (Dense)        (None, 128)               32896     \n",
      "_________________________________________________________________\n",
      "dropout_3 (Dropout)          (None, 128)               0         \n",
      "_________________________________________________________________\n",
      "output (Dense)               (None, 10)                1290      \n",
      "=================================================================\n",
      "Total params: 1,741,962\n",
      "Trainable params: 1,740,426\n",
      "Non-trainable params: 1,536\n",
      "_________________________________________________________________\n",
      "WARNING:tensorflow:From /Users/Ian/anaconda2/lib/python2.7/site-packages/tensorflow/python/ops/math_ops.py:3066: to_int32 (from tensorflow.python.ops.math_ops) is deprecated and will be removed in a future version.\n",
      "Instructions for updating:\n",
      "Use tf.cast instead.\n",
      "Train on 50000 samples, validate on 10000 samples\n",
      "Epoch 1/50\n",
      "50000/50000 [==============================] - 18s 352us/step - loss: 6.7816 - acc: 0.1358 - val_loss: 6.0714 - val_acc: 0.2390\n",
      "Epoch 2/50\n",
      "50000/50000 [==============================] - 15s 290us/step - loss: 6.4275 - acc: 0.1931 - val_loss: 5.9273 - val_acc: 0.3035\n",
      "Epoch 3/50\n",
      "50000/50000 [==============================] - 14s 276us/step - loss: 6.2716 - acc: 0.2205 - val_loss: 5.8617 - val_acc: 0.3235\n",
      "Epoch 4/50\n",
      "50000/50000 [==============================] - 15s 293us/step - loss: 6.1485 - acc: 0.2398 - val_loss: 5.7991 - val_acc: 0.3367\n",
      "Epoch 5/50\n",
      "50000/50000 [==============================] - 14s 270us/step - loss: 6.0563 - acc: 0.2599 - val_loss: 5.7282 - val_acc: 0.3658\n",
      "Epoch 6/50\n",
      "50000/50000 [==============================] - 14s 275us/step - loss: 5.9808 - acc: 0.2717 - val_loss: 5.6946 - val_acc: 0.3656\n",
      "Epoch 7/50\n",
      "50000/50000 [==============================] - 14s 274us/step - loss: 5.9204 - acc: 0.2841 - val_loss: 5.6536 - val_acc: 0.3790\n",
      "Epoch 8/50\n",
      "50000/50000 [==============================] - 13s 270us/step - loss: 5.8699 - acc: 0.2928 - val_loss: 5.6393 - val_acc: 0.3731\n",
      "Epoch 9/50\n",
      "50000/50000 [==============================] - 14s 273us/step - loss: 5.8145 - acc: 0.3007 - val_loss: 5.5894 - val_acc: 0.3888\n",
      "Epoch 10/50\n",
      "50000/50000 [==============================] - 14s 271us/step - loss: 5.7699 - acc: 0.3092 - val_loss: 5.5488 - val_acc: 0.3940\n",
      "Epoch 11/50\n",
      "50000/50000 [==============================] - 14s 278us/step - loss: 5.7284 - acc: 0.3188 - val_loss: 5.5358 - val_acc: 0.3977\n",
      "Epoch 12/50\n",
      "50000/50000 [==============================] - 14s 272us/step - loss: 5.6926 - acc: 0.3225 - val_loss: 5.4980 - val_acc: 0.3988\n",
      "Epoch 13/50\n",
      "50000/50000 [==============================] - 13s 270us/step - loss: 5.6463 - acc: 0.3357 - val_loss: 5.4732 - val_acc: 0.4041\n",
      "Epoch 14/50\n",
      "50000/50000 [==============================] - 14s 278us/step - loss: 5.6181 - acc: 0.3400 - val_loss: 5.4446 - val_acc: 0.4026\n",
      "Epoch 15/50\n",
      "50000/50000 [==============================] - 15s 302us/step - loss: 5.5846 - acc: 0.3430 - val_loss: 5.4052 - val_acc: 0.4150\n",
      "Epoch 16/50\n",
      "50000/50000 [==============================] - 16s 316us/step - loss: 5.5469 - acc: 0.3477 - val_loss: 5.3771 - val_acc: 0.4222\n",
      "Epoch 17/50\n",
      "50000/50000 [==============================] - 14s 283us/step - loss: 5.5166 - acc: 0.3565 - val_loss: 5.3591 - val_acc: 0.4199\n",
      "Epoch 18/50\n",
      "50000/50000 [==============================] - 15s 291us/step - loss: 5.4902 - acc: 0.3595 - val_loss: 5.3395 - val_acc: 0.4211\n",
      "Epoch 19/50\n",
      "50000/50000 [==============================] - 15s 291us/step - loss: 5.4594 - acc: 0.3636 - val_loss: 5.3232 - val_acc: 0.4223\n",
      "Epoch 20/50\n",
      "50000/50000 [==============================] - 14s 272us/step - loss: 5.4318 - acc: 0.3677 - val_loss: 5.2803 - val_acc: 0.4356\n",
      "Epoch 21/50\n",
      "50000/50000 [==============================] - 14s 271us/step - loss: 5.4000 - acc: 0.3734 - val_loss: 5.2578 - val_acc: 0.4360\n",
      "Epoch 22/50\n",
      "50000/50000 [==============================] - 18s 362us/step - loss: 5.3753 - acc: 0.3788 - val_loss: 5.2296 - val_acc: 0.4385\n",
      "Epoch 23/50\n",
      "50000/50000 [==============================] - 18s 355us/step - loss: 5.3499 - acc: 0.3798 - val_loss: 5.2063 - val_acc: 0.4391\n",
      "Epoch 24/50\n",
      "50000/50000 [==============================] - 14s 277us/step - loss: 5.3272 - acc: 0.3841 - val_loss: 5.1869 - val_acc: 0.4427\n",
      "Epoch 25/50\n",
      "50000/50000 [==============================] - 14s 271us/step - loss: 5.3017 - acc: 0.3873 - val_loss: 5.1657 - val_acc: 0.4420\n",
      "Epoch 26/50\n",
      "50000/50000 [==============================] - 14s 276us/step - loss: 5.2728 - acc: 0.3931 - val_loss: 5.1412 - val_acc: 0.4437\n",
      "Epoch 27/50\n",
      "50000/50000 [==============================] - 14s 274us/step - loss: 5.2518 - acc: 0.3928 - val_loss: 5.1158 - val_acc: 0.4449\n",
      "Epoch 28/50\n",
      "50000/50000 [==============================] - 14s 271us/step - loss: 5.2256 - acc: 0.3994 - val_loss: 5.1018 - val_acc: 0.4488\n",
      "Epoch 29/50\n",
      "50000/50000 [==============================] - 14s 273us/step - loss: 5.2049 - acc: 0.3981 - val_loss: 5.0708 - val_acc: 0.4518\n",
      "Epoch 30/50\n",
      "50000/50000 [==============================] - 13s 268us/step - loss: 5.1816 - acc: 0.4010 - val_loss: 5.0561 - val_acc: 0.4489\n",
      "Epoch 31/50\n",
      "50000/50000 [==============================] - 14s 273us/step - loss: 5.1658 - acc: 0.4046 - val_loss: 5.0358 - val_acc: 0.4501\n",
      "Epoch 32/50\n",
      "50000/50000 [==============================] - 14s 283us/step - loss: 5.1339 - acc: 0.4070 - val_loss: 5.0155 - val_acc: 0.4525\n",
      "Epoch 33/50\n",
      "50000/50000 [==============================] - 14s 270us/step - loss: 5.1154 - acc: 0.4087 - val_loss: 4.9891 - val_acc: 0.4550\n",
      "Epoch 34/50\n",
      "50000/50000 [==============================] - 13s 269us/step - loss: 5.0914 - acc: 0.4108 - val_loss: 4.9723 - val_acc: 0.4545\n",
      "Epoch 35/50\n",
      "50000/50000 [==============================] - 14s 276us/step - loss: 5.0728 - acc: 0.4114 - val_loss: 4.9559 - val_acc: 0.4551\n",
      "Epoch 36/50\n",
      "50000/50000 [==============================] - 14s 271us/step - loss: 5.0490 - acc: 0.4204 - val_loss: 4.9289 - val_acc: 0.4592\n",
      "Epoch 37/50\n",
      "50000/50000 [==============================] - 14s 272us/step - loss: 5.0256 - acc: 0.4181 - val_loss: 4.9189 - val_acc: 0.4597\n",
      "Epoch 38/50\n",
      "50000/50000 [==============================] - 14s 273us/step - loss: 5.0010 - acc: 0.4220 - val_loss: 4.8919 - val_acc: 0.4601\n",
      "Epoch 39/50\n",
      "50000/50000 [==============================] - 14s 273us/step - loss: 4.9833 - acc: 0.4227 - val_loss: 4.8665 - val_acc: 0.4651\n",
      "Epoch 40/50\n",
      "50000/50000 [==============================] - 14s 272us/step - loss: 4.9608 - acc: 0.4215 - val_loss: 4.8568 - val_acc: 0.4629\n"
     ]
    },
    {
     "name": "stdout",
     "output_type": "stream",
     "text": [
      "Epoch 41/50\n",
      "50000/50000 [==============================] - 14s 272us/step - loss: 4.9405 - acc: 0.4274 - val_loss: 4.8301 - val_acc: 0.4695\n",
      "Epoch 42/50\n",
      "50000/50000 [==============================] - 14s 273us/step - loss: 4.9225 - acc: 0.4292 - val_loss: 4.8209 - val_acc: 0.4626\n",
      "Epoch 43/50\n",
      "50000/50000 [==============================] - 13s 268us/step - loss: 4.8974 - acc: 0.4326 - val_loss: 4.7919 - val_acc: 0.4656\n",
      "Epoch 44/50\n",
      "50000/50000 [==============================] - 13s 268us/step - loss: 4.8791 - acc: 0.4314 - val_loss: 4.7761 - val_acc: 0.4679\n",
      "Epoch 45/50\n",
      "50000/50000 [==============================] - 14s 271us/step - loss: 4.8621 - acc: 0.4344 - val_loss: 4.7533 - val_acc: 0.4715\n",
      "Epoch 46/50\n",
      "50000/50000 [==============================] - 14s 279us/step - loss: 4.8371 - acc: 0.4361 - val_loss: 4.7230 - val_acc: 0.4755\n",
      "Epoch 47/50\n",
      "50000/50000 [==============================] - 13s 267us/step - loss: 4.8171 - acc: 0.4416 - val_loss: 4.7361 - val_acc: 0.4702\n",
      "Epoch 48/50\n",
      "50000/50000 [==============================] - 14s 273us/step - loss: 4.8024 - acc: 0.4400 - val_loss: 4.6985 - val_acc: 0.4752\n",
      "Epoch 49/50\n",
      "50000/50000 [==============================] - 14s 271us/step - loss: 4.7759 - acc: 0.4421 - val_loss: 4.6786 - val_acc: 0.4767\n",
      "Epoch 50/50\n",
      "50000/50000 [==============================] - 14s 271us/step - loss: 4.7608 - acc: 0.4437 - val_loss: 4.6697 - val_acc: 0.4720\n"
     ]
    }
   ],
   "source": [
    "\n",
    "model = build_mlp(input_shape=x_train.shape[1:])\n",
    "model.summary()\n",
    "optimizer = keras.optimizers.SGD(lr=LEARNING_RATE, nesterov=True, momentum=MOMENTUM)\n",
    "model.compile(loss=\"categorical_crossentropy\", metrics=[\"accuracy\"], optimizer=optimizer)\n",
    "\n",
    "model.fit(x_train, y_train, \n",
    "          epochs=EPOCHS, \n",
    "          batch_size=BATCH_SIZE, \n",
    "          validation_data=(x_test, y_test), \n",
    "          shuffle=True)\n",
    "\n",
    "# Collect results\n",
    "train_loss = model.history.history[\"loss\"]\n",
    "valid_loss = model.history.history[\"val_loss\"]\n",
    "train_acc = model.history.history[\"acc\"]\n",
    "valid_acc = model.history.history[\"val_acc\"]"
   ]
  },
  {
   "cell_type": "code",
   "execution_count": 8,
   "metadata": {},
   "outputs": [
    {
     "data": {
      "image/png": "[encoded data removed]",
      "text/plain": [
       "<Figure size 432x288 with 1 Axes>"
      ]
     },
     "metadata": {
      "needs_background": "light"
     },
     "output_type": "display_data"
    },
    {
     "data": {
      "image/png": "[encoded data removed]",
      "text/plain": [
       "<Figure size 432x288 with 1 Axes>"
      ]
     },
     "metadata": {
      "needs_background": "light"
     },
     "output_type": "display_data"
    }
   ],
   "source": [
    "import matplotlib.pyplot as plt\n",
    "%matplotlib inline\n",
    "\n",
    "plt.plot(range(len(train_loss)), train_loss, label=\"train loss\")\n",
    "plt.plot(range(len(valid_loss)), valid_loss, label=\"valid loss\")\n",
    "plt.legend()\n",
    "plt.title(\"Loss\")\n",
    "plt.show()\n",
    "\n",
    "plt.plot(range(len(train_acc)), train_acc, label=\"train accuracy\")\n",
    "plt.plot(range(len(valid_acc)), valid_acc, label=\"valid accuracy\")\n",
    "plt.legend()\n",
    "plt.title(\"Accuracy\")\n",
    "plt.show()"
   ]
  }
 ],
 "metadata": {
  "kernelspec": {
   "display_name": "Python 2",
   "language": "python",
   "name": "python2"
  },
  "language_info": {
   "codemirror_mode": {
    "name": "ipython",
    "version": 2
   },
   "file_extension": ".py",
   "mimetype": "text/x-python",
   "name": "python",
   "nbconvert_exporter": "python",
   "pygments_lexer": "ipython2",
   "version": "2.7.16"
  }
 },
 "nbformat": 4,
 "nbformat_minor": 2
}
