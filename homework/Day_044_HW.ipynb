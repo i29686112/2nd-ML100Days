{
 "cells": [
  {
   "cell_type": "markdown",
   "metadata": {},
   "source": [
    "## [作業重點]\n",
    "確保你了解隨機森林模型中每個超參數的意義，並觀察調整超參數對結果的影響"
   ]
  },
  {
   "cell_type": "markdown",
   "metadata": {},
   "source": [
    "## 作業\n",
    "\n",
    "1. 試著調整 RandomForestClassifier(...) 中的參數，並觀察是否會改變結果？\n",
    "2. 改用其他資料集 (boston, wine)，並與回歸模型與決策樹的結果進行比較"
   ]
  },
  {
   "cell_type": "code",
   "execution_count": 13,
   "metadata": {},
   "outputs": [],
   "source": [
    "from sklearn import datasets, metrics\n",
    "from sklearn.ensemble import RandomForestClassifier\n",
    "from sklearn.model_selection import train_test_split"
   ]
  },
  {
   "cell_type": "markdown",
   "metadata": {},
   "source": [
    "BOSTON"
   ]
  },
  {
   "cell_type": "code",
   "execution_count": 14,
   "metadata": {},
   "outputs": [],
   "source": [
    "# 讀取BOSTON資料集\n",
    "boston = datasets.load_boston()\n",
    "\n",
    "# 切分訓練集/測試集\n",
    "x_train, x_test, y_train, y_test = train_test_split(boston.data, boston.target, test_size=0.25, random_state=4)\n",
    "\n",
    "# 建立模型 (使用 20 顆樹，每棵樹的最大深度為 4)\n",
    "clf = RandomForestClassifier(n_estimators=20, max_depth=4)\n",
    "clf2 = RandomForestClassifier(n_estimators=20, max_depth=10)\n",
    "clf3 = RandomForestClassifier(n_estimators=20)\n",
    "\n",
    "# 訓練模型\n",
    "clf.fit(x_train, y_train.astype('int'))\n",
    "clf2.fit(x_train, y_train.astype('int'))\n",
    "clf3.fit(x_train, y_train.astype('int'))\n",
    "\n",
    "# 預測測試集\n",
    "y_pred = clf.predict(x_test)\n",
    "y_pred2= clf2.predict(x_test)\n",
    "y_pred3 = clf3.predict(x_test)"
   ]
  },
  {
   "cell_type": "code",
   "execution_count": 15,
   "metadata": {},
   "outputs": [
    {
     "name": "stdout",
     "output_type": "stream",
     "text": [
      "('Accuracy: ', 35.85968503937008)\n",
      "('Accuracy with depth 10: ', 21.147874015748034)\n",
      "('Accuracy unlimited depth: ', 18.949448818897633)\n"
     ]
    }
   ],
   "source": [
    "acc = metrics.mean_squared_error(y_test, y_pred)\n",
    "print(\"Accuracy: \", acc)\n",
    "\n",
    "acc2 = metrics.mean_squared_error(y_test, y_pred2)\n",
    "print(\"Accuracy with depth 10: \", acc2)\n",
    "\n",
    "acc3 = metrics.mean_squared_error(y_test, y_pred3)\n",
    "print(\"Accuracy unlimited depth: \", acc3)"
   ]
  },
  {
   "cell_type": "markdown",
   "metadata": {},
   "source": [
    "# Wine"
   ]
  },
  {
   "cell_type": "code",
   "execution_count": 16,
   "metadata": {},
   "outputs": [],
   "source": [
    "# 讀取Wine資料集\n",
    "wine = datasets.load_wine()\n",
    "\n",
    "# 切分訓練集/測試集\n",
    "x_train, x_test, y_train, y_test = train_test_split(wine.data, wine.target, test_size=0.25, random_state=4)\n",
    "\n",
    "# 建立模型 (使用 20 顆樹，每棵樹的最大深度為 4)\n",
    "clf = RandomForestClassifier(n_estimators=20, max_depth=4)\n",
    "clf2 = RandomForestClassifier(n_estimators=20, max_depth=10)\n",
    "clf3 = RandomForestClassifier(n_estimators=20)\n",
    "\n",
    "# 訓練模型\n",
    "clf.fit(x_train, y_train.astype('int'))\n",
    "clf2.fit(x_train, y_train.astype('int'))\n",
    "clf3.fit(x_train, y_train.astype('int'))\n",
    "\n",
    "# 預測測試集\n",
    "y_pred = clf.predict(x_test)\n",
    "y_pred2= clf2.predict(x_test)\n",
    "y_pred3 = clf3.predict(x_test)"
   ]
  },
  {
   "cell_type": "code",
   "execution_count": 17,
   "metadata": {},
   "outputs": [
    {
     "name": "stdout",
     "output_type": "stream",
     "text": [
      "('Accuracy: ', 0.9777777777777777)\n",
      "('Accuracy with depth 10: ', 0.9777777777777777)\n",
      "('Accuracy unlimited depth: ', 1.0)\n"
     ]
    }
   ],
   "source": [
    "acc = metrics.accuracy_score(y_test, y_pred)\n",
    "print(\"Accuracy: \", acc)\n",
    "\n",
    "acc2 = metrics.accuracy_score(y_test, y_pred2)\n",
    "print(\"Accuracy with depth 10: \", acc2)\n",
    "\n",
    "acc3 = metrics.accuracy_score(y_test, y_pred3)\n",
    "print(\"Accuracy unlimited depth: \", acc3)"
   ]
  },
  {
   "cell_type": "code",
   "execution_count": null,
   "metadata": {},
   "outputs": [],
   "source": []
  }
 ],
 "metadata": {
  "kernelspec": {
   "display_name": "Python 2",
   "language": "python",
   "name": "python2"
  },
  "language_info": {
   "codemirror_mode": {
    "name": "ipython",
    "version": 2
   },
   "file_extension": ".py",
   "mimetype": "text/x-python",
   "name": "python",
   "nbconvert_exporter": "python",
   "pygments_lexer": "ipython2",
   "version": "2.7.16"
  }
 },
 "nbformat": 4,
 "nbformat_minor": 2
}
