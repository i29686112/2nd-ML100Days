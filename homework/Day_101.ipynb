{
 "cells": [
  {
   "cell_type": "code",
   "execution_count": 2,
   "metadata": {},
   "outputs": [],
   "source": [
    "import keras\n",
    "from keras.datasets import cifar10\n",
    "from keras.preprocessing.image import ImageDataGenerator\n",
    "from keras.models import Sequential\n",
    "from keras.layers import Dense, Dropout, Activation, Flatten\n",
    "from keras.layers import Conv2D, MaxPooling2D\n",
    "from keras.optimizers import RMSprop, Adam,SGD\n",
    "import numpy as np\n",
    "import os\n",
    "\n",
    "# 本範例不需使用 GPU, 將 GPU 設定為 \"無\"\n",
    "os.environ[\"CUDA_VISIBLE_DEVICES\"] = \"0\"\n",
    "os.environ['KMP_DUPLICATE_LIB_OK']='True'"
   ]
  },
  {
   "cell_type": "code",
   "execution_count": 3,
   "metadata": {},
   "outputs": [
    {
     "name": "stdout",
     "output_type": "stream",
     "text": [
      "Found 3200 images belonging to 2 classes.\n",
      "Found 800 images belonging to 2 classes.\n"
     ]
    }
   ],
   "source": [
    "batch_size = 32 # batch 的大小，如果出現 OOM error，請降低這個值\n",
    "num_classes = 2 # 類別的數量，Cifar 10 共有 10 個類別\n",
    "epochs = 10 # 訓練的 epochs 數量\n",
    "\n",
    "# create a data generator\n",
    "datagenForTrain = ImageDataGenerator(        \n",
    "    rescale=1./255,\n",
    "    zoom_range=0.5,\n",
    "    validation_split=.2)\n",
    "\n",
    "datagenForValid = ImageDataGenerator(validation_split=.2)\n",
    "\n",
    "\n",
    "# load and iterate training dataset\n",
    "train_it = datagenForTrain.flow_from_directory('../data/kaggle_dogcat/train', class_mode='binary', batch_size=batch_size, subset='training')\n",
    "\n",
    "\n",
    "# load and iterate validation dataset\n",
    "#valid_it = datagen.flow_from_directory('../data/kaggle_dogcat/train', class_mode='binary', batch_size=batch_size, subset='validation')\n",
    "valid_it = datagenForValid.flow_from_directory('../data/kaggle_dogcat/train', class_mode='binary', batch_size=batch_size, subset='validation')\n",
    "\n",
    "# confirm the iterator works\n",
    "batchX = train_it.next()\n",
    "batchY = valid_it.next()\n",
    "\n",
    "# load and iterate test dataset\n",
    "# test_it = datagen.flow_from_directory('../data/kaggle_dogcat/test', class_mode='binary', batch_size=64)"
   ]
  },
  {
   "cell_type": "code",
   "execution_count": 4,
   "metadata": {},
   "outputs": [
    {
     "name": "stdout",
     "output_type": "stream",
     "text": [
      "WARNING:tensorflow:From /Users/Ian/anaconda2/lib/python2.7/site-packages/tensorflow/python/framework/op_def_library.py:263: colocate_with (from tensorflow.python.framework.ops) is deprecated and will be removed in a future version.\n",
      "Instructions for updating:\n",
      "Colocations handled automatically by placer.\n",
      "WARNING:tensorflow:From /Users/Ian/anaconda2/lib/python2.7/site-packages/keras/backend/tensorflow_backend.py:3445: calling dropout (from tensorflow.python.ops.nn_ops) with keep_prob is deprecated and will be removed in a future version.\n",
      "Instructions for updating:\n",
      "Please use `rate` instead of `keep_prob`. Rate should be set to `rate = 1 - keep_prob`.\n",
      "_________________________________________________________________\n",
      "Layer (type)                 Output Shape              Param #   \n",
      "=================================================================\n",
      "conv2d_1 (Conv2D)            (None, 256, 256, 32)      896       \n",
      "_________________________________________________________________\n",
      "activation_1 (Activation)    (None, 256, 256, 32)      0         \n",
      "_________________________________________________________________\n",
      "conv2d_2 (Conv2D)            (None, 254, 254, 32)      9248      \n",
      "_________________________________________________________________\n",
      "activation_2 (Activation)    (None, 254, 254, 32)      0         \n",
      "_________________________________________________________________\n",
      "max_pooling2d_1 (MaxPooling2 (None, 127, 127, 32)      0         \n",
      "_________________________________________________________________\n",
      "dropout_1 (Dropout)          (None, 127, 127, 32)      0         \n",
      "_________________________________________________________________\n",
      "flatten_1 (Flatten)          (None, 516128)            0         \n",
      "_________________________________________________________________\n",
      "dropout_2 (Dropout)          (None, 516128)            0         \n",
      "_________________________________________________________________\n",
      "dense_1 (Dense)              (None, 1)                 516129    \n",
      "_________________________________________________________________\n",
      "activation_3 (Activation)    (None, 1)                 0         \n",
      "=================================================================\n",
      "Total params: 526,273\n",
      "Trainable params: 526,273\n",
      "Non-trainable params: 0\n",
      "_________________________________________________________________\n"
     ]
    }
   ],
   "source": [
    "model = Sequential()\n",
    "\n",
    "model.add(Conv2D(32, (3, 3), padding='same',\n",
    "                 input_shape=batchX[0][0].shape))\n",
    "model.add(Activation('relu'))\n",
    "\n",
    "model.add(Conv2D(32, (3, 3)))\n",
    "model.add(Activation('relu'))\n",
    "model.add(MaxPooling2D(pool_size=(2, 2)))\n",
    "model.add(Dropout(0.25))\n",
    "\n",
    "# model.add(Conv2D(64, (3, 3), padding='same'))\n",
    "# model.add(Activation('relu'))\n",
    "# model.add(Conv2D(64, (3, 3)))\n",
    "# model.add(Activation('relu'))\n",
    "# model.add(MaxPooling2D(pool_size=(2, 2)))\n",
    "# model.add(Dropout(0.25))\n",
    "\n",
    "model.add(Flatten())\n",
    "# model.add(Dense(512))\n",
    "# model.add(Activation('relu'))\n",
    "\n",
    "model.add(Dropout(0.5))\n",
    "model.add(Dense(1))\n",
    "\n",
    "model.add(Activation('softmax'))\n",
    "model.summary()\n",
    "\n",
    "model.compile(loss='binary_crossentropy',\n",
    "              optimizer=RMSprop(),\n",
    "              metrics=['accuracy'])"
   ]
  },
  {
   "cell_type": "code",
   "execution_count": null,
   "metadata": {
    "scrolled": true
   },
   "outputs": [
    {
     "name": "stdout",
     "output_type": "stream",
     "text": [
      "WARNING:tensorflow:From /Users/Ian/anaconda2/lib/python2.7/site-packages/tensorflow/python/ops/math_ops.py:3066: to_int32 (from tensorflow.python.ops.math_ops) is deprecated and will be removed in a future version.\n",
      "Instructions for updating:\n",
      "Use tf.cast instead.\n",
      "Epoch 1/10\n",
      "100/100 [==============================] - 381s 4s/step - loss: 7.9662 - acc: 0.5003 - val_loss: 7.8915 - val_acc: 0.5050\n",
      "Epoch 2/10\n",
      "100/100 [==============================] - 466s 5s/step - loss: 8.0011 - acc: 0.4981 - val_loss: 8.0708 - val_acc: 0.4938\n",
      "Epoch 3/10\n",
      "100/100 [==============================] - 589s 6s/step - loss: 7.9662 - acc: 0.5003 - val_loss: 7.9712 - val_acc: 0.5000\n",
      "Epoch 4/10\n",
      "100/100 [==============================] - 588s 6s/step - loss: 7.9612 - acc: 0.5006 - val_loss: 7.9114 - val_acc: 0.5038\n",
      "Epoch 5/10\n",
      "100/100 [==============================] - 462s 5s/step - loss: 7.9612 - acc: 0.5006 - val_loss: 7.9911 - val_acc: 0.4988\n",
      "Epoch 6/10\n",
      " 53/100 [==============>...............] - ETA: 2:49 - loss: 7.9712 - acc: 0.5000"
     ]
    }
   ],
   "source": [
    "#model.fit_generator(train_it, steps_per_epoch=16, validation_data=valid_it, validation_steps=8)\n",
    "\n",
    "model.fit_generator(\n",
    "    train_it,\n",
    "    steps_per_epoch = train_it.samples // batch_size,\n",
    "    validation_data = valid_it, \n",
    "    validation_steps = valid_it.samples // batch_size,\n",
    "    epochs = epochs)\n",
    "\n",
    "# history = model.fit_generator(datagen,\n",
    "#                     steps_per_epoch=int(len(x_train)/batch_size), # 一個 epochs 要執行幾次 update，通常是資料量除以 batch size\n",
    "#                     epochs=epochs,\n",
    "#                     verbose=1,\n",
    "#                     validation_data=(x_test, y_test))\n",
    "\n",
    "#score = model.evaluate(x_test, y_test, verbose=0)\n",
    "\n"
   ]
  },
  {
   "cell_type": "code",
   "execution_count": null,
   "metadata": {},
   "outputs": [],
   "source": [
    "score = model.evaluate_generator(valid_it,steps=valid_it.samples // batch_size)\n",
    "print('Test loss:', score[0])\n",
    "print('Test accuracy:', score[1])"
   ]
  }
 ],
 "metadata": {
  "kernelspec": {
   "display_name": "Python 2",
   "language": "python",
   "name": "python2"
  },
  "language_info": {
   "codemirror_mode": {
    "name": "ipython",
    "version": 2
   },
   "file_extension": ".py",
   "mimetype": "text/x-python",
   "name": "python",
   "nbconvert_exporter": "python",
   "pygments_lexer": "ipython2",
   "version": "2.7.16"
  }
 },
 "nbformat": 4,
 "nbformat_minor": 2
}
