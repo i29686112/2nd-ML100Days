{
 "cells": [
  {
   "cell_type": "code",
   "execution_count": 19,
   "metadata": {},
   "outputs": [],
   "source": [
    "import keras\n",
    "from keras.datasets import cifar10\n",
    "from keras.preprocessing.image import ImageDataGenerator\n",
    "from keras.models import Sequential\n",
    "from keras.layers import Dense, Dropout, Activation, Flatten\n",
    "from keras.layers import Conv2D, MaxPooling2D\n",
    "from keras.optimizers import RMSprop, Adam,SGD\n",
    "import numpy as np\n",
    "import os\n",
    "\n",
    "from resnet_builder import resnet # 這是從 resnet_builder.py 中直接 import 撰寫好的 resnet 函數\n",
    "\n",
    "\n",
    "# 本範例不需使用 GPU, 將 GPU 設定為 \"無\"\n",
    "os.environ[\"CUDA_VISIBLE_DEVICES\"] = \"0\"\n",
    "os.environ['KMP_DUPLICATE_LIB_OK']='True'"
   ]
  },
  {
   "cell_type": "code",
   "execution_count": 20,
   "metadata": {
    "scrolled": true
   },
   "outputs": [
    {
     "name": "stdout",
     "output_type": "stream",
     "text": [
      "Found 4000 images belonging to 2 classes.\n",
      "Found 800 images belonging to 2 classes.\n"
     ]
    }
   ],
   "source": [
    "batch_size = 32 # batch 的大小，如果出現 OOM error，請降低這個值\n",
    "num_classes = 2 # 類別的數量，Cifar 10 共有 10 個類別\n",
    "epochs = 10 # 訓練的 epochs 數量\n",
    "\n",
    "# create a data generator\n",
    "datagenForTrain = ImageDataGenerator(rotation_range=40,\n",
    "                                   width_shift_range=0.2,\n",
    "                                   height_shift_range=0.2,\n",
    "                                   shear_range=0.2,\n",
    "                                   zoom_range=0.2,\n",
    "                                   channel_shift_range=10,\n",
    "                                   horizontal_flip=True,\n",
    "                                   fill_mode='nearest')\n",
    "\n",
    "datagenForValid = ImageDataGenerator(validation_split=.2)\n",
    "\n",
    "IMAGE_SIZE = (224, 224)\n",
    "\n",
    "\n",
    "# load and iterate training dataset\n",
    "train_it = datagenForTrain.flow_from_directory('../data/kaggle_dogcat/train',target_size=IMAGE_SIZE, class_mode='binary', batch_size=batch_size, subset='training')\n",
    "\n",
    "\n",
    "# load and iterate validation dataset\n",
    "#valid_it = datagen.flow_from_directory('../data/kaggle_dogcat/train', class_mode='binary', batch_size=batch_size, subset='validation')\n",
    "valid_it = datagenForValid.flow_from_directory('../data/kaggle_dogcat/train',target_size=IMAGE_SIZE, class_mode='binary', batch_size=batch_size, subset='validation')\n",
    "\n",
    "# confirm the iterator works\n",
    "batchX = train_it.next()\n",
    "batchY = valid_it.next()\n",
    "\n",
    "# load and iterate test dataset\n",
    "# test_it = datagen.flow_from_directory('../data/kaggle_dogcat/test', class_mode='binary', batch_size=64)"
   ]
  },
  {
   "cell_type": "code",
   "execution_count": null,
   "metadata": {},
   "outputs": [],
   "source": [
    "# 建立 ResNet 模型\n",
    "resnetModel = resnet(input_shape=batchX[0][0].shape, num_classes=1) \n",
    "resnetModel.summary()"
   ]
  },
  {
   "cell_type": "code",
   "execution_count": 21,
   "metadata": {},
   "outputs": [
    {
     "name": "stdout",
     "output_type": "stream",
     "text": [
      "_________________________________________________________________\n",
      "Layer (type)                 Output Shape              Param #   \n",
      "=================================================================\n",
      "conv2d_33 (Conv2D)           (None, 224, 224, 32)      896       \n",
      "_________________________________________________________________\n",
      "activation_45 (Activation)   (None, 224, 224, 32)      0         \n",
      "_________________________________________________________________\n",
      "conv2d_34 (Conv2D)           (None, 222, 222, 32)      9248      \n",
      "_________________________________________________________________\n",
      "activation_46 (Activation)   (None, 222, 222, 32)      0         \n",
      "_________________________________________________________________\n",
      "max_pooling2d_14 (MaxPooling (None, 111, 111, 32)      0         \n",
      "_________________________________________________________________\n",
      "dropout_16 (Dropout)         (None, 111, 111, 32)      0         \n",
      "_________________________________________________________________\n",
      "conv2d_35 (Conv2D)           (None, 111, 111, 64)      18496     \n",
      "_________________________________________________________________\n",
      "activation_47 (Activation)   (None, 111, 111, 64)      0         \n",
      "_________________________________________________________________\n",
      "conv2d_36 (Conv2D)           (None, 109, 109, 64)      36928     \n",
      "_________________________________________________________________\n",
      "activation_48 (Activation)   (None, 109, 109, 64)      0         \n",
      "_________________________________________________________________\n",
      "max_pooling2d_15 (MaxPooling (None, 54, 54, 64)        0         \n",
      "_________________________________________________________________\n",
      "dropout_17 (Dropout)         (None, 54, 54, 64)        0         \n",
      "_________________________________________________________________\n",
      "flatten_7 (Flatten)          (None, 186624)            0         \n",
      "_________________________________________________________________\n",
      "dense_13 (Dense)             (None, 512)               95552000  \n",
      "_________________________________________________________________\n",
      "activation_49 (Activation)   (None, 512)               0         \n",
      "_________________________________________________________________\n",
      "dropout_18 (Dropout)         (None, 512)               0         \n",
      "_________________________________________________________________\n",
      "dense_14 (Dense)             (None, 1)                 513       \n",
      "_________________________________________________________________\n",
      "activation_50 (Activation)   (None, 1)                 0         \n",
      "=================================================================\n",
      "Total params: 95,618,081\n",
      "Trainable params: 95,618,081\n",
      "Non-trainable params: 0\n",
      "_________________________________________________________________\n"
     ]
    }
   ],
   "source": [
    "model = Sequential()\n",
    "\n",
    "model.add(Conv2D(32, (3, 3), padding='same',\n",
    "                 input_shape=batchX[0][0].shape))\n",
    "model.add(Activation('relu'))\n",
    "model.add(Conv2D(32, (3, 3)))\n",
    "model.add(Activation('relu'))\n",
    "model.add(MaxPooling2D(pool_size=(2, 2)))\n",
    "model.add(Dropout(0.25))\n",
    "\n",
    "model.add(Conv2D(64, (3, 3), padding='same'))\n",
    "model.add(Activation('relu'))\n",
    "model.add(Conv2D(64, (3, 3)))\n",
    "model.add(Activation('relu'))\n",
    "model.add(MaxPooling2D(pool_size=(2, 2)))\n",
    "model.add(Dropout(0.25))\n",
    "\n",
    "model.add(Flatten())\n",
    "model.add(Dense(512))\n",
    "model.add(Activation('relu'))\n",
    "model.add(Dropout(0.5))\n",
    "model.add(Dense(1))\n",
    "model.add(Activation('softmax'))\n",
    "model.summary()\n",
    "\n",
    "model.compile(loss='binary_crossentropy',\n",
    "              optimizer=RMSprop(),\n",
    "              metrics=['accuracy'])"
   ]
  },
  {
   "cell_type": "code",
   "execution_count": 22,
   "metadata": {
    "scrolled": true
   },
   "outputs": [
    {
     "name": "stdout",
     "output_type": "stream",
     "text": [
      "Epoch 1/10\n",
      "125/125 [==============================] - 731s 6s/step - loss: 7.9911 - acc: 0.4988 - val_loss: 8.0110 - val_acc: 0.4975\n",
      "Epoch 2/10\n",
      "125/125 [==============================] - 686s 5s/step - loss: 7.9752 - acc: 0.4997 - val_loss: 7.9114 - val_acc: 0.5038\n",
      "Epoch 3/10\n",
      "125/125 [==============================] - 630s 5s/step - loss: 7.9552 - acc: 0.5010 - val_loss: 7.9712 - val_acc: 0.5000\n",
      "Epoch 4/10\n",
      "125/125 [==============================] - 658s 5s/step - loss: 7.9792 - acc: 0.4995 - val_loss: 7.9313 - val_acc: 0.5025\n",
      "Epoch 5/10\n",
      "125/125 [==============================] - 653s 5s/step - loss: 7.9831 - acc: 0.4993 - val_loss: 8.0310 - val_acc: 0.4963\n",
      "Epoch 6/10\n",
      "125/125 [==============================] - 653s 5s/step - loss: 7.9632 - acc: 0.5005 - val_loss: 8.0310 - val_acc: 0.4963\n",
      "Epoch 7/10\n",
      "125/125 [==============================] - 626s 5s/step - loss: 7.9712 - acc: 0.5000 - val_loss: 8.0110 - val_acc: 0.4975\n",
      "Epoch 8/10\n",
      "125/125 [==============================] - 608s 5s/step - loss: 7.9592 - acc: 0.5007 - val_loss: 7.8317 - val_acc: 0.5088\n",
      "Epoch 9/10\n",
      "125/125 [==============================] - 611s 5s/step - loss: 7.9632 - acc: 0.5005 - val_loss: 8.0110 - val_acc: 0.4975\n",
      "Epoch 10/10\n",
      "125/125 [==============================] - 608s 5s/step - loss: 7.9712 - acc: 0.5000 - val_loss: 7.9513 - val_acc: 0.5012\n"
     ]
    },
    {
     "data": {
      "text/plain": [
       "<keras.callbacks.History at 0xb454c1550>"
      ]
     },
     "execution_count": 22,
     "metadata": {},
     "output_type": "execute_result"
    }
   ],
   "source": [
    "#model.fit_generator(train_it, steps_per_epoch=16, validation_data=valid_it, validation_steps=8)\n",
    "\n",
    "model.fit_generator(\n",
    "    train_it,\n",
    "    steps_per_epoch = train_it.samples // batch_size,\n",
    "    validation_data = valid_it, \n",
    "    validation_steps = valid_it.samples // batch_size,\n",
    "    epochs = epochs)\n",
    "\n",
    "\n",
    "# resnetModel.compile(loss='hinge',\n",
    "#               optimizer=SGD(lr=0.01, momentum=0.9),\n",
    "#               metrics=['accuracy'])\n",
    "\n",
    "# resnetModel.fit_generator(\n",
    "#     train_it,\n",
    "#     steps_per_epoch = train_it.samples // batch_size,\n",
    "#     validation_data = valid_it, \n",
    "#     validation_steps = valid_it.samples // batch_size,\n",
    "#     epochs = epochs)\n",
    "\n",
    "\n"
   ]
  },
  {
   "cell_type": "code",
   "execution_count": null,
   "metadata": {},
   "outputs": [],
   "source": [
    "score = model.evaluate_generator(valid_it,steps=valid_it.samples // batch_size)\n",
    "print('Test loss:', score[0])\n",
    "print('Test accuracy:', score[1])"
   ]
  },
  {
   "cell_type": "code",
   "execution_count": null,
   "metadata": {},
   "outputs": [],
   "source": []
  }
 ],
 "metadata": {
  "kernelspec": {
   "display_name": "Python 2",
   "language": "python",
   "name": "python2"
  },
  "language_info": {
   "codemirror_mode": {
    "name": "ipython",
    "version": 2
   },
   "file_extension": ".py",
   "mimetype": "text/x-python",
   "name": "python",
   "nbconvert_exporter": "python",
   "pygments_lexer": "ipython2",
   "version": "2.7.16"
  }
 },
 "nbformat": 4,
 "nbformat_minor": 2
}
