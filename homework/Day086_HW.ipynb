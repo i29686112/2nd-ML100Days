{
 "cells": [
  {
   "cell_type": "markdown",
   "metadata": {},
   "source": [
    "## Work\n",
    "1. 試比較 save_best_only 與否的差異\n",
    "2. 請僅存入將 save_weights_only 設定為 True, 並嘗試 reset ipynb 並將模型與權重重新建回並預測 x_test"
   ]
  },
  {
   "cell_type": "code",
   "execution_count": 5,
   "metadata": {},
   "outputs": [],
   "source": [
    "import os\n",
    "import keras\n",
    "import itertools\n",
    "# Enable GPU\n",
    "os.environ[\"CUDA_VISIBLE_DEVICES\"] = \"0\"\n",
    "os.environ['KMP_DUPLICATE_LIB_OK']='True'"
   ]
  },
  {
   "cell_type": "code",
   "execution_count": 6,
   "metadata": {},
   "outputs": [],
   "source": [
    "train, test = keras.datasets.cifar10.load_data()"
   ]
  },
  {
   "cell_type": "code",
   "execution_count": 7,
   "metadata": {},
   "outputs": [],
   "source": [
    "## 資料前處理\n",
    "def preproc_x(x, flatten=True):\n",
    "    x = x / 255.\n",
    "    if flatten:\n",
    "        x = x.reshape((len(x), -1))\n",
    "    return x\n",
    "\n",
    "def preproc_y(y, num_classes=10):\n",
    "    if y.shape[-1] == 1:\n",
    "        y = keras.utils.to_categorical(y, num_classes)\n",
    "    return y    "
   ]
  },
  {
   "cell_type": "code",
   "execution_count": 8,
   "metadata": {},
   "outputs": [],
   "source": [
    "x_train, y_train = train\n",
    "x_test, y_test = test\n",
    "\n",
    "# Preproc the inputs\n",
    "x_train = preproc_x(x_train)\n",
    "x_test = preproc_x(x_test)\n",
    "\n",
    "# Preprc the outputs\n",
    "y_train = preproc_y(y_train)\n",
    "y_test = preproc_y(y_test)"
   ]
  },
  {
   "cell_type": "code",
   "execution_count": 9,
   "metadata": {},
   "outputs": [],
   "source": [
    "from keras.layers import BatchNormalization\n",
    "\n",
    "\"\"\"\n",
    "建立神經網路，並加入 BN layer\n",
    "\"\"\"\n",
    "def build_mlp(input_shape, output_units=10, num_neurons=[512, 256, 128]):\n",
    "    input_layer = keras.layers.Input(input_shape)\n",
    "    \n",
    "    for i, n_units in enumerate(num_neurons):\n",
    "        if i == 0:\n",
    "            x = keras.layers.Dense(units=n_units, \n",
    "                                   activation=\"relu\", \n",
    "                                   name=\"hidden_layer\"+str(i+1))(input_layer)\n",
    "            x = BatchNormalization()(x)\n",
    "        else:\n",
    "            x = keras.layers.Dense(units=n_units, \n",
    "                                   activation=\"relu\", \n",
    "                                   name=\"hidden_layer\"+str(i+1))(x)\n",
    "            x = BatchNormalization()(x)\n",
    "    \n",
    "    out = keras.layers.Dense(units=output_units, activation=\"softmax\", name=\"output\")(x)\n",
    "    \n",
    "    model = keras.models.Model(inputs=[input_layer], outputs=[out])\n",
    "    return model"
   ]
  },
  {
   "cell_type": "code",
   "execution_count": 27,
   "metadata": {},
   "outputs": [],
   "source": [
    "## 超參數設定\n",
    "LEARNING_RATE = 1e-3\n",
    "EPOCHS = 50\n",
    "BATCH_SIZE = 1024\n",
    "MOMENTUM = 0.95"
   ]
  },
  {
   "cell_type": "code",
   "execution_count": 28,
   "metadata": {},
   "outputs": [
    {
     "name": "stdout",
     "output_type": "stream",
     "text": [
      "_________________________________________________________________\n",
      "Layer (type)                 Output Shape              Param #   \n",
      "=================================================================\n",
      "input_17 (InputLayer)        (None, 3072)              0         \n",
      "_________________________________________________________________\n",
      "hidden_layer1 (Dense)        (None, 512)               1573376   \n",
      "_________________________________________________________________\n",
      "batch_normalization_49 (Batc (None, 512)               2048      \n",
      "_________________________________________________________________\n",
      "hidden_layer2 (Dense)        (None, 256)               131328    \n",
      "_________________________________________________________________\n",
      "batch_normalization_50 (Batc (None, 256)               1024      \n",
      "_________________________________________________________________\n",
      "hidden_layer3 (Dense)        (None, 128)               32896     \n",
      "_________________________________________________________________\n",
      "batch_normalization_51 (Batc (None, 128)               512       \n",
      "_________________________________________________________________\n",
      "output (Dense)               (None, 10)                1290      \n",
      "=================================================================\n",
      "Total params: 1,742,474\n",
      "Trainable params: 1,740,682\n",
      "Non-trainable params: 1,792\n",
      "_________________________________________________________________\n",
      "Train on 50000 samples, validate on 10000 samples\n",
      "Epoch 1/50\n",
      "50000/50000 [==============================] - 18s 370us/step - loss: 2.2242 - acc: 0.2711 - val_loss: 2.0793 - val_acc: 0.3165\n",
      "Epoch 2/50\n",
      "50000/50000 [==============================] - 13s 254us/step - loss: 1.7397 - acc: 0.3922 - val_loss: 1.8093 - val_acc: 0.3809\n",
      "Epoch 3/50\n",
      "50000/50000 [==============================] - 14s 276us/step - loss: 1.6138 - acc: 0.4353 - val_loss: 1.6973 - val_acc: 0.4079\n",
      "Epoch 4/50\n",
      "50000/50000 [==============================] - 15s 292us/step - loss: 1.5421 - acc: 0.4605 - val_loss: 1.6192 - val_acc: 0.4350\n",
      "Epoch 5/50\n",
      "50000/50000 [==============================] - 13s 253us/step - loss: 1.4875 - acc: 0.4801 - val_loss: 1.5988 - val_acc: 0.4354\n",
      "Epoch 6/50\n",
      "50000/50000 [==============================] - 12s 245us/step - loss: 1.4435 - acc: 0.4973 - val_loss: 1.5570 - val_acc: 0.4568\n",
      "Epoch 7/50\n",
      "50000/50000 [==============================] - 12s 240us/step - loss: 1.4037 - acc: 0.5116 - val_loss: 1.5488 - val_acc: 0.4561\n",
      "Epoch 8/50\n",
      "50000/50000 [==============================] - 12s 245us/step - loss: 1.3692 - acc: 0.5245 - val_loss: 1.5259 - val_acc: 0.4595\n",
      "Epoch 9/50\n",
      "50000/50000 [==============================] - 12s 242us/step - loss: 1.3375 - acc: 0.5355 - val_loss: 1.5113 - val_acc: 0.4699\n",
      "Epoch 10/50\n",
      "50000/50000 [==============================] - 12s 235us/step - loss: 1.3063 - acc: 0.5486 - val_loss: 1.5080 - val_acc: 0.4714\n",
      "Epoch 11/50\n",
      "50000/50000 [==============================] - 12s 244us/step - loss: 1.2791 - acc: 0.5572 - val_loss: 1.4957 - val_acc: 0.4770\n",
      "Epoch 12/50\n",
      "50000/50000 [==============================] - 12s 238us/step - loss: 1.2517 - acc: 0.5689 - val_loss: 1.4817 - val_acc: 0.4790\n",
      "Epoch 13/50\n",
      "50000/50000 [==============================] - 12s 245us/step - loss: 1.2278 - acc: 0.5761 - val_loss: 1.4800 - val_acc: 0.4834\n",
      "Epoch 14/50\n",
      "50000/50000 [==============================] - 12s 236us/step - loss: 1.2016 - acc: 0.5860 - val_loss: 1.4783 - val_acc: 0.4833\n",
      "Epoch 15/50\n",
      "50000/50000 [==============================] - 12s 239us/step - loss: 1.1780 - acc: 0.5937 - val_loss: 1.4720 - val_acc: 0.4901\n",
      "Epoch 16/50\n",
      "50000/50000 [==============================] - 12s 239us/step - loss: 1.1551 - acc: 0.6038 - val_loss: 1.4794 - val_acc: 0.4862\n",
      "Epoch 17/50\n",
      "50000/50000 [==============================] - 12s 239us/step - loss: 1.1335 - acc: 0.6110 - val_loss: 1.4718 - val_acc: 0.4873\n",
      "Epoch 18/50\n",
      "50000/50000 [==============================] - 14s 276us/step - loss: 1.1136 - acc: 0.6203 - val_loss: 1.4606 - val_acc: 0.4910\n",
      "Epoch 19/50\n",
      "50000/50000 [==============================] - 13s 266us/step - loss: 1.0877 - acc: 0.6301 - val_loss: 1.4588 - val_acc: 0.4966\n",
      "Epoch 20/50\n",
      "50000/50000 [==============================] - 12s 239us/step - loss: 1.0666 - acc: 0.6380 - val_loss: 1.4596 - val_acc: 0.4915\n",
      "Epoch 21/50\n",
      "50000/50000 [==============================] - 11s 215us/step - loss: 1.0455 - acc: 0.6474 - val_loss: 1.4709 - val_acc: 0.4947\n",
      "Epoch 22/50\n",
      "50000/50000 [==============================] - 11s 211us/step - loss: 1.0245 - acc: 0.6523 - val_loss: 1.4573 - val_acc: 0.4991\n",
      "Epoch 23/50\n",
      "50000/50000 [==============================] - 11s 227us/step - loss: 1.0032 - acc: 0.6630 - val_loss: 1.4550 - val_acc: 0.5009\n",
      "Epoch 24/50\n",
      "50000/50000 [==============================] - 11s 213us/step - loss: 0.9811 - acc: 0.6696 - val_loss: 1.4532 - val_acc: 0.5017\n",
      "Epoch 25/50\n",
      "50000/50000 [==============================] - 11s 224us/step - loss: 0.9621 - acc: 0.6774 - val_loss: 1.4652 - val_acc: 0.4977\n",
      "Epoch 26/50\n",
      "50000/50000 [==============================] - 12s 248us/step - loss: 0.9422 - acc: 0.6857 - val_loss: 1.4610 - val_acc: 0.4984\n",
      "Epoch 27/50\n",
      "50000/50000 [==============================] - 12s 241us/step - loss: 0.9222 - acc: 0.6931 - val_loss: 1.4697 - val_acc: 0.4980\n",
      "Epoch 28/50\n",
      "50000/50000 [==============================] - 11s 230us/step - loss: 0.8999 - acc: 0.7037 - val_loss: 1.4694 - val_acc: 0.4976\n",
      "Epoch 29/50\n",
      "50000/50000 [==============================] - 11s 220us/step - loss: 0.8826 - acc: 0.7067 - val_loss: 1.4665 - val_acc: 0.4986\n",
      "Epoch 30/50\n",
      "50000/50000 [==============================] - 11s 213us/step - loss: 0.8593 - acc: 0.7179 - val_loss: 1.4819 - val_acc: 0.4987\n",
      "Epoch 31/50\n",
      "50000/50000 [==============================] - 11s 215us/step - loss: 0.8403 - acc: 0.7247 - val_loss: 1.4924 - val_acc: 0.4964\n",
      "Epoch 32/50\n",
      "50000/50000 [==============================] - 11s 220us/step - loss: 0.8242 - acc: 0.7317 - val_loss: 1.4891 - val_acc: 0.5000\n",
      "Epoch 33/50\n",
      "50000/50000 [==============================] - 11s 221us/step - loss: 0.8027 - acc: 0.7392 - val_loss: 1.4974 - val_acc: 0.4991\n",
      "Epoch 34/50\n",
      "50000/50000 [==============================] - 11s 211us/step - loss: 0.7824 - acc: 0.7501 - val_loss: 1.4925 - val_acc: 0.5001\n",
      "Epoch 35/50\n",
      "50000/50000 [==============================] - 11s 212us/step - loss: 0.7647 - acc: 0.7551 - val_loss: 1.5159 - val_acc: 0.4996\n",
      "Epoch 36/50\n",
      "50000/50000 [==============================] - 11s 213us/step - loss: 0.7467 - acc: 0.7625 - val_loss: 1.5118 - val_acc: 0.4952\n",
      "Epoch 37/50\n",
      "50000/50000 [==============================] - 10s 210us/step - loss: 0.7256 - acc: 0.7708 - val_loss: 1.5058 - val_acc: 0.4982\n",
      "Epoch 38/50\n",
      "50000/50000 [==============================] - 11s 212us/step - loss: 0.7076 - acc: 0.7784 - val_loss: 1.5369 - val_acc: 0.4989\n",
      "Epoch 39/50\n",
      "50000/50000 [==============================] - 11s 214us/step - loss: 0.6878 - acc: 0.7862 - val_loss: 1.5323 - val_acc: 0.4972\n",
      "Epoch 40/50\n",
      "50000/50000 [==============================] - 10s 210us/step - loss: 0.6712 - acc: 0.7916 - val_loss: 1.5641 - val_acc: 0.4974\n",
      "Epoch 41/50\n",
      "50000/50000 [==============================] - 11s 212us/step - loss: 0.6534 - acc: 0.7974 - val_loss: 1.5553 - val_acc: 0.4984\n",
      "Epoch 42/50\n",
      "50000/50000 [==============================] - 11s 211us/step - loss: 0.6350 - acc: 0.8070 - val_loss: 1.5721 - val_acc: 0.4965\n",
      "Epoch 43/50\n",
      "50000/50000 [==============================] - 11s 211us/step - loss: 0.6158 - acc: 0.8136 - val_loss: 1.5701 - val_acc: 0.4992\n",
      "Epoch 44/50\n",
      "50000/50000 [==============================] - 11s 212us/step - loss: 0.6011 - acc: 0.8193 - val_loss: 1.5935 - val_acc: 0.4964\n",
      "Epoch 45/50\n",
      "50000/50000 [==============================] - 11s 216us/step - loss: 0.5823 - acc: 0.8274 - val_loss: 1.5909 - val_acc: 0.4933\n",
      "Epoch 46/50\n",
      "50000/50000 [==============================] - 10s 209us/step - loss: 0.5638 - acc: 0.8358 - val_loss: 1.6259 - val_acc: 0.4918\n",
      "Epoch 47/50\n",
      "50000/50000 [==============================] - 11s 211us/step - loss: 0.5452 - acc: 0.8429 - val_loss: 1.6321 - val_acc: 0.4905\n",
      "Epoch 48/50\n",
      "50000/50000 [==============================] - 11s 213us/step - loss: 0.5297 - acc: 0.8466 - val_loss: 1.6592 - val_acc: 0.4944\n",
      "Epoch 49/50\n"
     ]
    },
    {
     "name": "stdout",
     "output_type": "stream",
     "text": [
      "50000/50000 [==============================] - 10s 209us/step - loss: 0.5134 - acc: 0.8555 - val_loss: 1.6537 - val_acc: 0.4958\n",
      "Epoch 50/50\n",
      "50000/50000 [==============================] - 11s 211us/step - loss: 0.4961 - acc: 0.8607 - val_loss: 1.6660 - val_acc: 0.4907\n",
      "10000/10000 [==============================] - 2s 219us/step\n"
     ]
    }
   ],
   "source": [
    "# 載入 Callbacks\n",
    "\"\"\"\n",
    "# 載入 Callbacks, 並將監控目標設為 validation loss, 且只存最佳參數時的模型\n",
    "\"\"\"\n",
    "from keras.callbacks import ModelCheckpoint\n",
    "\n",
    "model_ckpt = ModelCheckpoint(filepath=\"../data/tmp.h5\", \n",
    "                             monitor=\"val_loss\", \n",
    "                             save_best_only=False,\n",
    "                                save_weights_only=True)\n",
    "\n",
    "results = {}\n",
    "\"\"\"Code Here\n",
    "撰寫你的訓練流程並將結果用 dictionary 紀錄\n",
    "\"\"\"\n",
    "\n",
    "model = build_mlp(input_shape=x_train.shape[1:])\n",
    "model.summary()\n",
    "optimizer = keras.optimizers.SGD(lr=LEARNING_RATE, nesterov=True, momentum=MOMENTUM)\n",
    "model.compile(loss=\"categorical_crossentropy\", metrics=[\"accuracy\"], optimizer=optimizer)\n",
    "\n",
    "model.fit(x_train, y_train, \n",
    "          epochs=EPOCHS, \n",
    "          batch_size=BATCH_SIZE, \n",
    "          validation_data=(x_test, y_test), \n",
    "          shuffle=True,\n",
    "          callbacks=[model_ckpt]\n",
    "         )\n",
    "\n",
    "# Collect results\n",
    "train_loss = model.history.history[\"loss\"]\n",
    "valid_loss = model.history.history[\"val_loss\"]\n",
    "train_acc = model.history.history[\"acc\"]\n",
    "valid_acc = model.history.history[\"val_acc\"]\n",
    "\n",
    "# Load back\n",
    "model.load_weights(\"../data/tmp.h5\")\n",
    "loss_loadback, acc_loadback = model.evaluate(x_test, y_test)"
   ]
  },
  {
   "cell_type": "code",
   "execution_count": 29,
   "metadata": {
    "scrolled": true
   },
   "outputs": [
    {
     "data": {
      "image/png": "[encoded data removed]",
      "text/plain": [
       "<Figure size 432x288 with 1 Axes>"
      ]
     },
     "metadata": {
      "needs_background": "light"
     },
     "output_type": "display_data"
    },
    {
     "data": {
      "image/png": "[encoded data removed]",
      "text/plain": [
       "<Figure size 432x288 with 1 Axes>"
      ]
     },
     "metadata": {
      "needs_background": "light"
     },
     "output_type": "display_data"
    }
   ],
   "source": [
    "import matplotlib.pyplot as plt\n",
    "%matplotlib inline\n",
    "\n",
    "plt.plot(range(len(train_loss)), train_loss, label=\"train loss\")\n",
    "plt.plot(range(len(valid_loss)), valid_loss, label=\"valid loss\")\n",
    "plt.hlines(y=loss_loadback, xmin=0, xmax=len(train_loss), colors='r', linestyles='--')\n",
    "plt.legend()\n",
    "plt.title(\"Loss\")\n",
    "plt.show()\n",
    "\n",
    "plt.plot(range(len(train_acc)), train_acc, label=\"train accuracy\")\n",
    "plt.plot(range(len(valid_acc)), valid_acc, label=\"valid accuracy\")\n",
    "plt.hlines(y=acc_loadback, xmin=0, xmax=len(train_loss), colors='r', linestyles='--')\n",
    "plt.legend()\n",
    "plt.title(\"Accuracy\")\n",
    "plt.show()"
   ]
  },
  {
   "cell_type": "code",
   "execution_count": null,
   "metadata": {},
   "outputs": [],
   "source": []
  }
 ],
 "metadata": {
  "kernelspec": {
   "display_name": "Python 2",
   "language": "python",
   "name": "python2"
  },
  "language_info": {
   "codemirror_mode": {
    "name": "ipython",
    "version": 2
   },
   "file_extension": ".py",
   "mimetype": "text/x-python",
   "name": "python",
   "nbconvert_exporter": "python",
   "pygments_lexer": "ipython2",
   "version": "2.7.16"
  }
 },
 "nbformat": 4,
 "nbformat_minor": 2
}
