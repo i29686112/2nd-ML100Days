{
 "cells": [
  {
   "cell_type": "markdown",
   "metadata": {},
   "source": [
    "## Work\n",
    "1. 請比較使用不同層數以及不同 Dropout rate 對訓練的效果\n",
    "2. 將 optimizer 改成使用 Adam 並加上適當的 dropout rate 檢視結果"
   ]
  },
  {
   "cell_type": "code",
   "execution_count": 14,
   "metadata": {},
   "outputs": [],
   "source": [
    "import os\n",
    "import keras\n",
    "import itertools\n",
    "# Disable GPU\n",
    "os.environ[\"CUDA_VISIBLE_DEVICES\"] = \"\"\n",
    "os.environ['KMP_DUPLICATE_LIB_OK']='True'"
   ]
  },
  {
   "cell_type": "code",
   "execution_count": 15,
   "metadata": {},
   "outputs": [],
   "source": [
    "train, test = keras.datasets.cifar10.load_data()"
   ]
  },
  {
   "cell_type": "code",
   "execution_count": 16,
   "metadata": {},
   "outputs": [],
   "source": [
    "## 資料前處理\n",
    "def preproc_x(x, flatten=True):\n",
    "    x = x / 255.\n",
    "    if flatten:\n",
    "        x = x.reshape((len(x), -1))\n",
    "    return x\n",
    "\n",
    "def preproc_y(y, num_classes=10):\n",
    "    if y.shape[-1] == 1:\n",
    "        y = keras.utils.to_categorical(y, num_classes)\n",
    "    return y    "
   ]
  },
  {
   "cell_type": "code",
   "execution_count": 17,
   "metadata": {},
   "outputs": [],
   "source": [
    "x_train, y_train = train\n",
    "x_test, y_test = test\n",
    "\n",
    "# Preproc the inputs\n",
    "x_train = preproc_x(x_train)\n",
    "x_test = preproc_x(x_test)\n",
    "\n",
    "# Preprc the outputs\n",
    "y_train = preproc_y(y_train)\n",
    "y_test = preproc_y(y_test)"
   ]
  },
  {
   "cell_type": "code",
   "execution_count": 18,
   "metadata": {},
   "outputs": [],
   "source": [
    "from keras.layers import Dropout\n",
    "\n",
    "def build_mlp(input_shape, output_units=10, num_neurons=[512, 256, 128], drp_ratio=0.4):\n",
    "    input_layer = keras.layers.Input(input_shape)\n",
    "    \n",
    "    for i, n_units in enumerate(num_neurons):\n",
    "        if i == 0:\n",
    "            x = keras.layers.Dense(units=n_units, \n",
    "                                   activation=\"relu\", \n",
    "                                   name=\"hidden_layer\"+str(i+1))(input_layer)\n",
    "            x = Dropout(drp_ratio)(x)\n",
    "        else:\n",
    "            x = keras.layers.Dense(units=n_units, \n",
    "                                   activation=\"relu\", \n",
    "                                   name=\"hidden_layer\"+str(i+1))(x)\n",
    "            x = Dropout(drp_ratio)(x)\n",
    "    \n",
    "    out = keras.layers.Dense(units=output_units, activation=\"softmax\", name=\"output\")(x)\n",
    "    \n",
    "    model = keras.models.Model(inputs=[input_layer], outputs=[out])\n",
    "    return model"
   ]
  },
  {
   "cell_type": "code",
   "execution_count": 19,
   "metadata": {},
   "outputs": [],
   "source": [
    "## 超參數設定\n",
    "LEARNING_RATE = 1e-3\n",
    "EPOCHS = 50\n",
    "BATCH_SIZE = 256\n",
    "MOMENTUM = 0.95\n",
    "Dropout_EXP = 0.25"
   ]
  },
  {
   "cell_type": "code",
   "execution_count": 20,
   "metadata": {
    "scrolled": true
   },
   "outputs": [
    {
     "name": "stdout",
     "output_type": "stream",
     "text": [
      "_________________________________________________________________\n",
      "Layer (type)                 Output Shape              Param #   \n",
      "=================================================================\n",
      "input_4 (InputLayer)         (None, 3072)              0         \n",
      "_________________________________________________________________\n",
      "hidden_layer1 (Dense)        (None, 512)               1573376   \n",
      "_________________________________________________________________\n",
      "dropout_4 (Dropout)          (None, 512)               0         \n",
      "_________________________________________________________________\n",
      "hidden_layer2 (Dense)        (None, 256)               131328    \n",
      "_________________________________________________________________\n",
      "dropout_5 (Dropout)          (None, 256)               0         \n",
      "_________________________________________________________________\n",
      "hidden_layer3 (Dense)        (None, 128)               32896     \n",
      "_________________________________________________________________\n",
      "dropout_6 (Dropout)          (None, 128)               0         \n",
      "_________________________________________________________________\n",
      "output (Dense)               (None, 10)                1290      \n",
      "=================================================================\n",
      "Total params: 1,738,890\n",
      "Trainable params: 1,738,890\n",
      "Non-trainable params: 0\n",
      "_________________________________________________________________\n",
      "Train on 50000 samples, validate on 10000 samples\n",
      "Epoch 1/50\n",
      "50000/50000 [==============================] - 22s 450us/step - loss: 2.0462 - acc: 0.2445 - val_loss: 1.8475 - val_acc: 0.3297\n",
      "Epoch 2/50\n",
      "50000/50000 [==============================] - 18s 369us/step - loss: 1.8825 - acc: 0.3171 - val_loss: 1.7919 - val_acc: 0.3644\n",
      "Epoch 3/50\n",
      "50000/50000 [==============================] - 22s 434us/step - loss: 1.8132 - acc: 0.3443 - val_loss: 1.7255 - val_acc: 0.3862\n",
      "Epoch 4/50\n",
      "50000/50000 [==============================] - 19s 379us/step - loss: 1.7794 - acc: 0.3576 - val_loss: 1.6838 - val_acc: 0.4085\n",
      "Epoch 5/50\n",
      "50000/50000 [==============================] - 24s 479us/step - loss: 1.7469 - acc: 0.3690 - val_loss: 1.6426 - val_acc: 0.4225\n",
      "Epoch 6/50\n",
      "50000/50000 [==============================] - 20s 406us/step - loss: 1.7325 - acc: 0.3743 - val_loss: 1.6448 - val_acc: 0.4205\n",
      "Epoch 7/50\n",
      "50000/50000 [==============================] - 23s 467us/step - loss: 1.7268 - acc: 0.3808 - val_loss: 1.6332 - val_acc: 0.4176\n",
      "Epoch 8/50\n",
      "50000/50000 [==============================] - 20s 392us/step - loss: 1.7065 - acc: 0.3837 - val_loss: 1.6101 - val_acc: 0.4332\n",
      "Epoch 9/50\n",
      "50000/50000 [==============================] - 20s 407us/step - loss: 1.6867 - acc: 0.3958 - val_loss: 1.6233 - val_acc: 0.4301\n",
      "Epoch 10/50\n",
      "50000/50000 [==============================] - 20s 409us/step - loss: 1.6649 - acc: 0.4018 - val_loss: 1.5816 - val_acc: 0.4397\n",
      "Epoch 11/50\n",
      "50000/50000 [==============================] - 21s 421us/step - loss: 1.6689 - acc: 0.3984 - val_loss: 1.5855 - val_acc: 0.4385\n",
      "Epoch 12/50\n",
      "50000/50000 [==============================] - 20s 399us/step - loss: 1.6521 - acc: 0.4059 - val_loss: 1.5688 - val_acc: 0.4420\n",
      "Epoch 13/50\n",
      "50000/50000 [==============================] - 20s 403us/step - loss: 1.6446 - acc: 0.4068 - val_loss: 1.5608 - val_acc: 0.4404\n",
      "Epoch 14/50\n",
      "50000/50000 [==============================] - 21s 413us/step - loss: 1.6336 - acc: 0.4145 - val_loss: 1.5649 - val_acc: 0.4481\n",
      "Epoch 15/50\n",
      "50000/50000 [==============================] - 20s 400us/step - loss: 1.6381 - acc: 0.4120 - val_loss: 1.5572 - val_acc: 0.4542\n",
      "Epoch 16/50\n",
      "50000/50000 [==============================] - 20s 400us/step - loss: 1.6212 - acc: 0.4178 - val_loss: 1.5316 - val_acc: 0.4535\n",
      "Epoch 17/50\n",
      "50000/50000 [==============================] - 20s 403us/step - loss: 1.6100 - acc: 0.4225 - val_loss: 1.5496 - val_acc: 0.4514\n",
      "Epoch 18/50\n",
      "50000/50000 [==============================] - 22s 447us/step - loss: 1.6099 - acc: 0.4209 - val_loss: 1.5384 - val_acc: 0.4603\n",
      "Epoch 19/50\n",
      "50000/50000 [==============================] - 22s 439us/step - loss: 1.6017 - acc: 0.4246 - val_loss: 1.5337 - val_acc: 0.4485\n",
      "Epoch 20/50\n",
      "50000/50000 [==============================] - 20s 404us/step - loss: 1.5913 - acc: 0.4265 - val_loss: 1.5258 - val_acc: 0.4617\n",
      "Epoch 21/50\n",
      "50000/50000 [==============================] - 22s 444us/step - loss: 1.5894 - acc: 0.4291 - val_loss: 1.5350 - val_acc: 0.4547\n",
      "Epoch 22/50\n",
      "50000/50000 [==============================] - 20s 408us/step - loss: 1.5826 - acc: 0.4311 - val_loss: 1.5041 - val_acc: 0.4666\n",
      "Epoch 23/50\n",
      "50000/50000 [==============================] - 22s 447us/step - loss: 1.5789 - acc: 0.4335 - val_loss: 1.5488 - val_acc: 0.4476\n",
      "Epoch 24/50\n",
      "50000/50000 [==============================] - 21s 423us/step - loss: 1.5830 - acc: 0.4303 - val_loss: 1.5276 - val_acc: 0.4606\n",
      "Epoch 25/50\n",
      "50000/50000 [==============================] - 24s 478us/step - loss: 1.5713 - acc: 0.4344 - val_loss: 1.5119 - val_acc: 0.4695\n",
      "Epoch 26/50\n",
      "50000/50000 [==============================] - 21s 418us/step - loss: 1.5724 - acc: 0.4339 - val_loss: 1.4964 - val_acc: 0.4699\n",
      "Epoch 27/50\n",
      "50000/50000 [==============================] - 20s 398us/step - loss: 1.5612 - acc: 0.4417 - val_loss: 1.5034 - val_acc: 0.4701\n",
      "Epoch 28/50\n",
      "50000/50000 [==============================] - 20s 398us/step - loss: 1.5629 - acc: 0.4399 - val_loss: 1.5274 - val_acc: 0.4611\n",
      "Epoch 29/50\n",
      "50000/50000 [==============================] - 20s 400us/step - loss: 1.5557 - acc: 0.4422 - val_loss: 1.5094 - val_acc: 0.4537\n",
      "Epoch 30/50\n",
      "50000/50000 [==============================] - 20s 397us/step - loss: 1.5453 - acc: 0.4421 - val_loss: 1.5019 - val_acc: 0.4695\n",
      "Epoch 31/50\n",
      "50000/50000 [==============================] - 20s 399us/step - loss: 1.5567 - acc: 0.4415 - val_loss: 1.4971 - val_acc: 0.4692\n",
      "Epoch 32/50\n",
      "50000/50000 [==============================] - 20s 397us/step - loss: 1.5409 - acc: 0.4474 - val_loss: 1.4822 - val_acc: 0.4764\n",
      "Epoch 33/50\n",
      "50000/50000 [==============================] - 20s 397us/step - loss: 1.5377 - acc: 0.4439 - val_loss: 1.4776 - val_acc: 0.4827\n",
      "Epoch 34/50\n",
      "50000/50000 [==============================] - 20s 400us/step - loss: 1.5383 - acc: 0.4461 - val_loss: 1.4785 - val_acc: 0.4735\n",
      "Epoch 35/50\n",
      "50000/50000 [==============================] - 22s 431us/step - loss: 1.5271 - acc: 0.4514 - val_loss: 1.4618 - val_acc: 0.4803\n",
      "Epoch 36/50\n",
      "50000/50000 [==============================] - 23s 458us/step - loss: 1.5296 - acc: 0.4493 - val_loss: 1.5119 - val_acc: 0.4708\n",
      "Epoch 37/50\n",
      "50000/50000 [==============================] - 19s 373us/step - loss: 1.5247 - acc: 0.4516 - val_loss: 1.4731 - val_acc: 0.4729\n",
      "Epoch 38/50\n",
      "50000/50000 [==============================] - 21s 414us/step - loss: 1.5198 - acc: 0.4532 - val_loss: 1.4806 - val_acc: 0.4722\n",
      "Epoch 39/50\n",
      "50000/50000 [==============================] - 18s 368us/step - loss: 1.5128 - acc: 0.4563 - val_loss: 1.4754 - val_acc: 0.4728\n",
      "Epoch 40/50\n",
      "50000/50000 [==============================] - 19s 373us/step - loss: 1.5131 - acc: 0.4574 - val_loss: 1.4802 - val_acc: 0.4763\n",
      "Epoch 41/50\n",
      "50000/50000 [==============================] - 18s 358us/step - loss: 1.5195 - acc: 0.4550 - val_loss: 1.4809 - val_acc: 0.4739\n",
      "Epoch 42/50\n",
      "50000/50000 [==============================] - 19s 378us/step - loss: 1.5074 - acc: 0.4582 - val_loss: 1.4526 - val_acc: 0.4852\n",
      "Epoch 43/50\n",
      "50000/50000 [==============================] - 19s 377us/step - loss: 1.5018 - acc: 0.4628 - val_loss: 1.4557 - val_acc: 0.4841\n",
      "Epoch 44/50\n",
      "50000/50000 [==============================] - 19s 375us/step - loss: 1.5045 - acc: 0.4603 - val_loss: 1.4771 - val_acc: 0.4796\n",
      "Epoch 45/50\n",
      "50000/50000 [==============================] - 21s 429us/step - loss: 1.4968 - acc: 0.4620 - val_loss: 1.4644 - val_acc: 0.4820\n",
      "Epoch 46/50\n",
      "50000/50000 [==============================] - 21s 416us/step - loss: 1.4951 - acc: 0.4646 - val_loss: 1.4679 - val_acc: 0.4787\n",
      "Epoch 47/50\n",
      "50000/50000 [==============================] - 18s 351us/step - loss: 1.4885 - acc: 0.4639 - val_loss: 1.4772 - val_acc: 0.4761\n",
      "Epoch 48/50\n",
      "50000/50000 [==============================] - 18s 350us/step - loss: 1.4856 - acc: 0.4686 - val_loss: 1.4597 - val_acc: 0.4834\n",
      "Epoch 49/50\n"
     ]
    },
    {
     "name": "stdout",
     "output_type": "stream",
     "text": [
      "50000/50000 [==============================] - 18s 351us/step - loss: 1.4867 - acc: 0.4697 - val_loss: 1.4795 - val_acc: 0.4822\n",
      "Epoch 50/50\n",
      "50000/50000 [==============================] - 17s 348us/step - loss: 1.4894 - acc: 0.4667 - val_loss: 1.4584 - val_acc: 0.4793\n"
     ]
    }
   ],
   "source": [
    "results = {}\n",
    "\"\"\"\n",
    "Code Here\n",
    "撰寫你的訓練流程並將結果用 dictionary 紀錄\n",
    "\"\"\"\n",
    "model = build_mlp(input_shape=x_train.shape[1:], drp_ratio=Dropout_EXP)\n",
    "model.summary()\n",
    "optimizer = keras.optimizers.Adam(lr=LEARNING_RATE)\n",
    "model.compile(loss=\"categorical_crossentropy\", metrics=[\"accuracy\"], optimizer=optimizer)\n",
    "\n",
    "model.fit(x_train, y_train, \n",
    "          epochs=EPOCHS, \n",
    "          batch_size=BATCH_SIZE, \n",
    "          validation_data=(x_test, y_test), \n",
    "          shuffle=True)\n",
    "\n",
    "# Collect results\n",
    "train_loss = model.history.history[\"loss\"]\n",
    "valid_loss = model.history.history[\"val_loss\"]\n",
    "train_acc = model.history.history[\"acc\"]\n",
    "valid_acc = model.history.history[\"val_acc\"]"
   ]
  },
  {
   "cell_type": "code",
   "execution_count": 21,
   "metadata": {},
   "outputs": [
    {
     "data": {
      "image/png": "[encoded data removed]",
      "text/plain": [
       "<Figure size 432x288 with 1 Axes>"
      ]
     },
     "metadata": {
      "needs_background": "light"
     },
     "output_type": "display_data"
    },
    {
     "data": {
      "image/png": "[encoded data removed]",
      "text/plain": [
       "<Figure size 432x288 with 1 Axes>"
      ]
     },
     "metadata": {
      "needs_background": "light"
     },
     "output_type": "display_data"
    }
   ],
   "source": [
    "import matplotlib.pyplot as plt\n",
    "%matplotlib inline\n",
    "\n",
    "plt.plot(range(len(train_loss)), train_loss, label=\"train loss\")\n",
    "plt.plot(range(len(valid_loss)), valid_loss, label=\"valid loss\")\n",
    "plt.legend()\n",
    "plt.title(\"Loss\")\n",
    "plt.show()\n",
    "\n",
    "plt.plot(range(len(train_acc)), train_acc, label=\"train accuracy\")\n",
    "plt.plot(range(len(valid_acc)), valid_acc, label=\"valid accuracy\")\n",
    "plt.legend()\n",
    "plt.title(\"Accuracy\")\n",
    "plt.show()"
   ]
  },
  {
   "cell_type": "code",
   "execution_count": null,
   "metadata": {},
   "outputs": [],
   "source": []
  }
 ],
 "metadata": {
  "kernelspec": {
   "display_name": "Python 2",
   "language": "python",
   "name": "python2"
  },
  "language_info": {
   "codemirror_mode": {
    "name": "ipython",
    "version": 2
   },
   "file_extension": ".py",
   "mimetype": "text/x-python",
   "name": "python",
   "nbconvert_exporter": "python",
   "pygments_lexer": "ipython2",
   "version": "2.7.16"
  }
 },
 "nbformat": 4,
 "nbformat_minor": 2
}
