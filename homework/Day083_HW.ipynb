{
 "cells": [
  {
   "cell_type": "markdown",
   "metadata": {},
   "source": [
    "## Work\n",
    "1. 試比較有 BN 在 Batch_size = 2, 16, 32, 128, 256 下的差異\n",
    "2. 請嘗試將 BN 放在 Activation 之前，並比較訓練結果\n",
    "3. 請於 BN 放在 Input Layer 後，並比較結果"
   ]
  },
  {
   "cell_type": "code",
   "execution_count": 20,
   "metadata": {},
   "outputs": [],
   "source": [
    "import os\n",
    "import keras\n",
    "import itertools\n",
    "# Disable GPU\n",
    "os.environ[\"CUDA_VISIBLE_DEVICES\"] = \"\"\n",
    "os.environ['KMP_DUPLICATE_LIB_OK']='True'"
   ]
  },
  {
   "cell_type": "code",
   "execution_count": 21,
   "metadata": {},
   "outputs": [],
   "source": [
    "train, test = keras.datasets.cifar10.load_data()"
   ]
  },
  {
   "cell_type": "code",
   "execution_count": 22,
   "metadata": {},
   "outputs": [],
   "source": [
    "## 資料前處理\n",
    "def preproc_x(x, flatten=True):\n",
    "    x = x / 255.\n",
    "    if flatten:\n",
    "        x = x.reshape((len(x), -1))\n",
    "    return x\n",
    "\n",
    "def preproc_y(y, num_classes=10):\n",
    "    if y.shape[-1] == 1:\n",
    "        y = keras.utils.to_categorical(y, num_classes)\n",
    "    return y    "
   ]
  },
  {
   "cell_type": "code",
   "execution_count": 23,
   "metadata": {},
   "outputs": [],
   "source": [
    "x_train, y_train = train\n",
    "x_test, y_test = test\n",
    "\n",
    "# Preproc the inputs\n",
    "x_train = preproc_x(x_train)\n",
    "x_test = preproc_x(x_test)\n",
    "\n",
    "# Preprc the outputs\n",
    "y_train = preproc_y(y_train)\n",
    "y_test = preproc_y(y_test)"
   ]
  },
  {
   "cell_type": "code",
   "execution_count": 24,
   "metadata": {},
   "outputs": [],
   "source": [
    "from keras.layers import BatchNormalization\n",
    "\n",
    "\"\"\"\n",
    "建立神經網路，並加入 BN layer\n",
    "\"\"\"\n",
    "def build_mlp(input_shape, output_units=10, num_neurons=[512, 256, 128]):\n",
    "    input_layer = keras.layers.Input(input_shape)\n",
    "    \n",
    "    for i, n_units in enumerate(num_neurons):\n",
    "        if i == 0:\n",
    "            x = keras.layers.Dense(units=n_units, \n",
    "                                   activation=\"relu\", \n",
    "                                   name=\"hidden_layer\"+str(i+1))(input_layer)\n",
    "            \n",
    "        else:\n",
    "            x = BatchNormalization()(x)\n",
    "            x = keras.layers.Dense(units=n_units, \n",
    "                                   activation=\"relu\", \n",
    "                                   name=\"hidden_layer\"+str(i+1))(x)\n",
    "            \n",
    "    \n",
    "    out = keras.layers.Dense(units=output_units, activation=\"softmax\", name=\"output\")(x)\n",
    "    \n",
    "    model = keras.models.Model(inputs=[input_layer], outputs=[out])\n",
    "    return model"
   ]
  },
  {
   "cell_type": "code",
   "execution_count": 25,
   "metadata": {},
   "outputs": [],
   "source": [
    "## 超參數設定\n",
    "LEARNING_RATE = 1e-3\n",
    "EPOCHS = 50\n",
    "BATCH_SIZE = 1024\n",
    "MOMENTUM = 0.95"
   ]
  },
  {
   "cell_type": "code",
   "execution_count": 26,
   "metadata": {
    "scrolled": true
   },
   "outputs": [
    {
     "name": "stdout",
     "output_type": "stream",
     "text": [
      "_________________________________________________________________\n",
      "Layer (type)                 Output Shape              Param #   \n",
      "=================================================================\n",
      "input_3 (InputLayer)         (None, 3072)              0         \n",
      "_________________________________________________________________\n",
      "hidden_layer1 (Dense)        (None, 512)               1573376   \n",
      "_________________________________________________________________\n",
      "batch_normalization_5 (Batch (None, 512)               2048      \n",
      "_________________________________________________________________\n",
      "hidden_layer2 (Dense)        (None, 256)               131328    \n",
      "_________________________________________________________________\n",
      "batch_normalization_6 (Batch (None, 256)               1024      \n",
      "_________________________________________________________________\n",
      "hidden_layer3 (Dense)        (None, 128)               32896     \n",
      "_________________________________________________________________\n",
      "output (Dense)               (None, 10)                1290      \n",
      "=================================================================\n",
      "Total params: 1,741,962\n",
      "Trainable params: 1,740,426\n",
      "Non-trainable params: 1,536\n",
      "_________________________________________________________________\n",
      "Train on 50000 samples, validate on 10000 samples\n",
      "Epoch 1/50\n",
      "50000/50000 [==============================] - 14s 275us/step - loss: 2.1586 - acc: 0.2534 - val_loss: 1.9947 - val_acc: 0.3110\n",
      "Epoch 2/50\n",
      "50000/50000 [==============================] - 11s 218us/step - loss: 1.7529 - acc: 0.3821 - val_loss: 1.7815 - val_acc: 0.3752\n",
      "Epoch 3/50\n",
      "50000/50000 [==============================] - 11s 214us/step - loss: 1.6392 - acc: 0.4234 - val_loss: 1.6663 - val_acc: 0.4058\n",
      "Epoch 4/50\n",
      "50000/50000 [==============================] - 11s 216us/step - loss: 1.5688 - acc: 0.4486 - val_loss: 1.6214 - val_acc: 0.4256\n",
      "Epoch 5/50\n",
      "50000/50000 [==============================] - 11s 229us/step - loss: 1.5177 - acc: 0.4664 - val_loss: 1.5767 - val_acc: 0.4406\n",
      "Epoch 6/50\n",
      "50000/50000 [==============================] - 11s 215us/step - loss: 1.4759 - acc: 0.4831 - val_loss: 1.5603 - val_acc: 0.4483\n",
      "Epoch 7/50\n",
      "50000/50000 [==============================] - 11s 213us/step - loss: 1.4384 - acc: 0.4954 - val_loss: 1.5411 - val_acc: 0.4569\n",
      "Epoch 8/50\n",
      "50000/50000 [==============================] - 11s 224us/step - loss: 1.4077 - acc: 0.5086 - val_loss: 1.5153 - val_acc: 0.4583\n",
      "Epoch 9/50\n",
      "50000/50000 [==============================] - 14s 289us/step - loss: 1.3767 - acc: 0.5191 - val_loss: 1.4990 - val_acc: 0.4694\n",
      "Epoch 10/50\n",
      "50000/50000 [==============================] - 12s 232us/step - loss: 1.3497 - acc: 0.5281 - val_loss: 1.4872 - val_acc: 0.4701\n",
      "Epoch 11/50\n",
      "50000/50000 [==============================] - 10s 197us/step - loss: 1.3253 - acc: 0.5399 - val_loss: 1.4792 - val_acc: 0.4731\n",
      "Epoch 12/50\n",
      "50000/50000 [==============================] - 11s 219us/step - loss: 1.3002 - acc: 0.5470 - val_loss: 1.4634 - val_acc: 0.4805\n",
      "Epoch 13/50\n",
      "50000/50000 [==============================] - 12s 246us/step - loss: 1.2773 - acc: 0.5566 - val_loss: 1.4557 - val_acc: 0.4819\n",
      "Epoch 14/50\n",
      "50000/50000 [==============================] - 11s 225us/step - loss: 1.2557 - acc: 0.5644 - val_loss: 1.4438 - val_acc: 0.4842\n",
      "Epoch 15/50\n",
      "50000/50000 [==============================] - 11s 213us/step - loss: 1.2334 - acc: 0.5736 - val_loss: 1.4422 - val_acc: 0.4906\n",
      "Epoch 16/50\n",
      "50000/50000 [==============================] - 11s 222us/step - loss: 1.2147 - acc: 0.5800 - val_loss: 1.4401 - val_acc: 0.4891\n",
      "Epoch 17/50\n",
      "50000/50000 [==============================] - 12s 234us/step - loss: 1.1948 - acc: 0.5864 - val_loss: 1.4299 - val_acc: 0.4930\n",
      "Epoch 18/50\n",
      "50000/50000 [==============================] - 12s 231us/step - loss: 1.1745 - acc: 0.5953 - val_loss: 1.4315 - val_acc: 0.4905\n",
      "Epoch 19/50\n",
      "50000/50000 [==============================] - 11s 218us/step - loss: 1.1540 - acc: 0.6022 - val_loss: 1.4183 - val_acc: 0.4965\n",
      "Epoch 20/50\n",
      "50000/50000 [==============================] - 10s 209us/step - loss: 1.1354 - acc: 0.6098 - val_loss: 1.4288 - val_acc: 0.4930\n",
      "Epoch 21/50\n",
      "50000/50000 [==============================] - 14s 274us/step - loss: 1.1156 - acc: 0.6168 - val_loss: 1.4152 - val_acc: 0.4996\n",
      "Epoch 22/50\n",
      "50000/50000 [==============================] - 11s 228us/step - loss: 1.0976 - acc: 0.6240 - val_loss: 1.4214 - val_acc: 0.4945\n",
      "Epoch 23/50\n",
      "50000/50000 [==============================] - 13s 254us/step - loss: 1.0804 - acc: 0.6308 - val_loss: 1.4119 - val_acc: 0.4967\n",
      "Epoch 24/50\n",
      "50000/50000 [==============================] - 11s 224us/step - loss: 1.0628 - acc: 0.6377 - val_loss: 1.4095 - val_acc: 0.5018\n",
      "Epoch 25/50\n",
      "50000/50000 [==============================] - 12s 233us/step - loss: 1.0451 - acc: 0.6457 - val_loss: 1.4141 - val_acc: 0.4999\n",
      "Epoch 26/50\n",
      "50000/50000 [==============================] - 11s 219us/step - loss: 1.0274 - acc: 0.6508 - val_loss: 1.4058 - val_acc: 0.5009\n",
      "Epoch 27/50\n",
      "50000/50000 [==============================] - 11s 228us/step - loss: 1.0097 - acc: 0.6576 - val_loss: 1.4109 - val_acc: 0.5024\n",
      "Epoch 28/50\n",
      "50000/50000 [==============================] - 11s 215us/step - loss: 0.9925 - acc: 0.6645 - val_loss: 1.4164 - val_acc: 0.5006\n",
      "Epoch 29/50\n",
      "50000/50000 [==============================] - 11s 222us/step - loss: 0.9752 - acc: 0.6728 - val_loss: 1.4161 - val_acc: 0.5017\n",
      "Epoch 30/50\n",
      "50000/50000 [==============================] - 11s 219us/step - loss: 0.9587 - acc: 0.6781 - val_loss: 1.4168 - val_acc: 0.5070\n",
      "Epoch 31/50\n",
      "50000/50000 [==============================] - 12s 239us/step - loss: 0.9413 - acc: 0.6861 - val_loss: 1.4150 - val_acc: 0.5068\n",
      "Epoch 32/50\n",
      "50000/50000 [==============================] - 12s 233us/step - loss: 0.9246 - acc: 0.6901 - val_loss: 1.4186 - val_acc: 0.5016\n",
      "Epoch 33/50\n",
      "50000/50000 [==============================] - 10s 210us/step - loss: 0.9083 - acc: 0.6965 - val_loss: 1.4277 - val_acc: 0.5029\n",
      "Epoch 34/50\n",
      "50000/50000 [==============================] - 10s 205us/step - loss: 0.8919 - acc: 0.7033 - val_loss: 1.4237 - val_acc: 0.5070\n",
      "Epoch 35/50\n",
      "50000/50000 [==============================] - 11s 217us/step - loss: 0.8756 - acc: 0.7095 - val_loss: 1.4331 - val_acc: 0.5029\n",
      "Epoch 36/50\n",
      "50000/50000 [==============================] - 10s 204us/step - loss: 0.8584 - acc: 0.7161 - val_loss: 1.4378 - val_acc: 0.5068\n",
      "Epoch 37/50\n",
      "50000/50000 [==============================] - 10s 205us/step - loss: 0.8412 - acc: 0.7226 - val_loss: 1.4317 - val_acc: 0.5069\n",
      "Epoch 38/50\n",
      "50000/50000 [==============================] - 10s 206us/step - loss: 0.8249 - acc: 0.7290 - val_loss: 1.4384 - val_acc: 0.5062\n",
      "Epoch 39/50\n",
      "50000/50000 [==============================] - 10s 205us/step - loss: 0.8087 - acc: 0.7368 - val_loss: 1.4532 - val_acc: 0.5020\n",
      "Epoch 40/50\n",
      "50000/50000 [==============================] - 10s 205us/step - loss: 0.7934 - acc: 0.7422 - val_loss: 1.4549 - val_acc: 0.5047\n",
      "Epoch 41/50\n",
      "50000/50000 [==============================] - 11s 219us/step - loss: 0.7758 - acc: 0.7486 - val_loss: 1.4706 - val_acc: 0.5005\n",
      "Epoch 42/50\n",
      "50000/50000 [==============================] - 11s 219us/step - loss: 0.7605 - acc: 0.7560 - val_loss: 1.4577 - val_acc: 0.5077\n",
      "Epoch 43/50\n",
      "50000/50000 [==============================] - 10s 206us/step - loss: 0.7450 - acc: 0.7610 - val_loss: 1.4704 - val_acc: 0.5048\n",
      "Epoch 44/50\n",
      "50000/50000 [==============================] - 10s 201us/step - loss: 0.7290 - acc: 0.7688 - val_loss: 1.4676 - val_acc: 0.5068\n",
      "Epoch 45/50\n",
      "50000/50000 [==============================] - 10s 203us/step - loss: 0.7150 - acc: 0.7747 - val_loss: 1.4926 - val_acc: 0.5001\n",
      "Epoch 46/50\n",
      "50000/50000 [==============================] - 10s 203us/step - loss: 0.6980 - acc: 0.7800 - val_loss: 1.4975 - val_acc: 0.5005\n",
      "Epoch 47/50\n",
      "50000/50000 [==============================] - 10s 202us/step - loss: 0.6822 - acc: 0.7860 - val_loss: 1.4946 - val_acc: 0.5012\n",
      "Epoch 48/50\n",
      "50000/50000 [==============================] - 10s 202us/step - loss: 0.6651 - acc: 0.7946 - val_loss: 1.4979 - val_acc: 0.5039\n",
      "Epoch 49/50\n",
      "50000/50000 [==============================] - 10s 203us/step - loss: 0.6524 - acc: 0.7981 - val_loss: 1.5054 - val_acc: 0.5028\n",
      "Epoch 50/50\n"
     ]
    },
    {
     "name": "stdout",
     "output_type": "stream",
     "text": [
      "50000/50000 [==============================] - 10s 203us/step - loss: 0.6392 - acc: 0.8023 - val_loss: 1.5264 - val_acc: 0.5019\n"
     ]
    }
   ],
   "source": [
    "\n",
    "model = build_mlp(input_shape=x_train.shape[1:])\n",
    "model.summary()\n",
    "optimizer = keras.optimizers.SGD(lr=LEARNING_RATE, nesterov=True, momentum=MOMENTUM)\n",
    "model.compile(loss=\"categorical_crossentropy\", metrics=[\"accuracy\"], optimizer=optimizer)\n",
    "\n",
    "model.fit(x_train, y_train, \n",
    "          epochs=EPOCHS, \n",
    "          batch_size=BATCH_SIZE, \n",
    "          validation_data=(x_test, y_test), \n",
    "          shuffle=True)\n",
    "\n",
    "# Collect results\n",
    "train_loss = model.history.history[\"loss\"]\n",
    "valid_loss = model.history.history[\"val_loss\"]\n",
    "train_acc = model.history.history[\"acc\"]\n",
    "valid_acc = model.history.history[\"val_acc\"]"
   ]
  },
  {
   "cell_type": "code",
   "execution_count": 27,
   "metadata": {},
   "outputs": [
    {
     "data": {
      "image/png": "[encoded data removed]",
      "text/plain": [
       "<Figure size 432x288 with 1 Axes>"
      ]
     },
     "metadata": {
      "needs_background": "light"
     },
     "output_type": "display_data"
    },
    {
     "data": {
      "image/png": "[encoded data removed]",
      "text/plain": [
       "<Figure size 432x288 with 1 Axes>"
      ]
     },
     "metadata": {
      "needs_background": "light"
     },
     "output_type": "display_data"
    }
   ],
   "source": [
    "import matplotlib.pyplot as plt\n",
    "%matplotlib inline\n",
    "\n",
    "plt.plot(range(len(train_loss)), train_loss, label=\"train loss\")\n",
    "plt.plot(range(len(valid_loss)), valid_loss, label=\"valid loss\")\n",
    "plt.legend()\n",
    "plt.title(\"Loss\")\n",
    "plt.show()\n",
    "\n",
    "plt.plot(range(len(train_acc)), train_acc, label=\"train accuracy\")\n",
    "plt.plot(range(len(valid_acc)), valid_acc, label=\"valid accuracy\")\n",
    "plt.legend()\n",
    "plt.title(\"Accuracy\")\n",
    "plt.show()"
   ]
  }
 ],
 "metadata": {
  "kernelspec": {
   "display_name": "Python 2",
   "language": "python",
   "name": "python2"
  },
  "language_info": {
   "codemirror_mode": {
    "name": "ipython",
    "version": 2
   },
   "file_extension": ".py",
   "mimetype": "text/x-python",
   "name": "python",
   "nbconvert_exporter": "python",
   "pygments_lexer": "ipython2",
   "version": "2.7.16"
  }
 },
 "nbformat": 4,
 "nbformat_minor": 2
}
