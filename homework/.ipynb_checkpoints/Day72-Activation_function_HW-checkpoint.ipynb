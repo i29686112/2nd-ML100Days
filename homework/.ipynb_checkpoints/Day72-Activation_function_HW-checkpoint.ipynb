{
 "cells": [
  {
   "cell_type": "markdown",
   "metadata": {},
   "source": [
    "# 作業目標:\n",
    "    寫出 ReLU & dReLU 一階導數\n",
    "    並列印\n"
   ]
  },
  {
   "cell_type": "markdown",
   "metadata": {},
   "source": [
    "# 作業重點\n",
    "\n",
    "# Rectified Linear Unit- Relu \n",
    "\n",
    "f(x)=max(0,x)\n"
   ]
  },
  {
   "cell_type": "code",
   "execution_count": 12,
   "metadata": {},
   "outputs": [
    {
     "data": {
      "image/png": "[encoded data removed]",
      "text/plain": [
       "<Figure size 432x288 with 1 Axes>"
      ]
     },
     "metadata": {
      "needs_background": "light"
     },
     "output_type": "display_data"
    }
   ],
   "source": [
    "import numpy as np\n",
    "from numpy import *\n",
    "import matplotlib.pylab as plt\n",
    "%matplotlib inline\n",
    "\n",
    "'''\n",
    "作業:\n",
    "    寫出 ReLU & dReLU 一階導數\n",
    "    並列印\n",
    "'''\n",
    "\n",
    "#f(x)=max(0,x)\n",
    "def ReLU(x):\n",
    "    return abs(x)*(x>0)\n",
    "\n",
    "#dReLU\n",
    "#微分是，如果值有大於0的話就是1，沒有的話就是0。\n",
    "def dReLU(x):\n",
    "    return (1 * (x>0))\n",
    "\n",
    "# linespace generate an array from start and stop value\n",
    "# with requested number of elements. Example 10 elements or 100 elements.\n",
    "x = plt.linspace(-10,10,100)\n",
    "\n",
    "# prepare the plot, associate the color r(ed) or b(lue) and the label \n",
    "plt.plot(x, ReLU(x), 'b', label='linspace(-10,10,10)')\n",
    "plt.plot(x, dReLU(x), 'r', label='linspace(-10,10,10)')\n",
    "# Draw the grid line in background.\n",
    "plt.grid()\n",
    "\n",
    "# 顯現圖示的Title\n",
    "plt.title('ReLU Function')\n",
    "\n",
    "# 顯現 the Sigmoid formula\n",
    "plt.text(4, 0.8, r'$\\sigma(x)=\\max(0,x)}$', fontsize=15)\n",
    "\n",
    "#plt.text(4, 0.8, r'$\\ReLU(x)=\\frac{1}{1+e^{-x}}$', fontsize=15)\n",
    "\n",
    "#resize the X and Y axes\n",
    "# plt.gca().xaxis.set_major_locator(plt.MultipleLocator(1))\n",
    "# plt.gca().yaxis.set_major_locator(plt.MultipleLocator(0.1))\n",
    " \n",
    "# create the graph\n",
    "plt.show()"
   ]
  },
  {
   "cell_type": "code",
   "execution_count": null,
   "metadata": {},
   "outputs": [],
   "source": []
  }
 ],
 "metadata": {
  "kernelspec": {
   "display_name": "Python 2",
   "language": "python",
   "name": "python2"
  },
  "language_info": {
   "codemirror_mode": {
    "name": "ipython",
    "version": 2
   },
   "file_extension": ".py",
   "mimetype": "text/x-python",
   "name": "python",
   "nbconvert_exporter": "python",
   "pygments_lexer": "ipython2",
   "version": "2.7.16"
  }
 },
 "nbformat": 4,
 "nbformat_minor": 2
}
